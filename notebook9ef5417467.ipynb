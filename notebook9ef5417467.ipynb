{
 "cells": [
  {
   "cell_type": "code",
   "execution_count": 1,
   "id": "9eb49c3a",
   "metadata": {
    "_cell_guid": "b1076dfc-b9ad-4769-8c92-a6c4dae69d19",
    "_uuid": "8f2839f25d086af736a60e9eeb907d3b93b6e0e5",
    "execution": {
     "iopub.execute_input": "2024-02-19T11:22:03.744658Z",
     "iopub.status.busy": "2024-02-19T11:22:03.744127Z",
     "iopub.status.idle": "2024-02-19T11:22:04.825107Z",
     "shell.execute_reply": "2024-02-19T11:22:04.822122Z"
    },
    "papermill": {
     "duration": 1.098785,
     "end_time": "2024-02-19T11:22:04.828013",
     "exception": false,
     "start_time": "2024-02-19T11:22:03.729228",
     "status": "completed"
    },
    "tags": []
   },
   "outputs": [
    {
     "name": "stdout",
     "output_type": "stream",
     "text": [
      "/kaggle/input/house-prices-advanced-regression-techniques/sample_submission.csv\n",
      "/kaggle/input/house-prices-advanced-regression-techniques/data_description.txt\n",
      "/kaggle/input/house-prices-advanced-regression-techniques/train.csv\n",
      "/kaggle/input/house-prices-advanced-regression-techniques/test.csv\n"
     ]
    }
   ],
   "source": [
    "import numpy as np # linear algebra\n",
    "import pandas as pd # data processing, CSV file I/O (e.g. pd.read_csv)\n",
    "\n",
    "\n",
    "import os\n",
    "for dirname, _, filenames in os.walk('/kaggle/input'):\n",
    "    for filename in filenames:\n",
    "        print(os.path.join(dirname, filename))\n",
    "\n",
    "# You can write up to 20GB to the current directory (/kaggle/working/) that gets preserved as output when you create a version using \"Save & Run All\" \n",
    "# You can also write temporary files to /kaggle/temp/, but they won't be saved outside of the current session"
   ]
  },
  {
   "cell_type": "code",
   "execution_count": 2,
   "id": "5244e22d",
   "metadata": {
    "execution": {
     "iopub.execute_input": "2024-02-19T11:22:04.855573Z",
     "iopub.status.busy": "2024-02-19T11:22:04.854896Z",
     "iopub.status.idle": "2024-02-19T11:22:04.967017Z",
     "shell.execute_reply": "2024-02-19T11:22:04.965996Z"
    },
    "papermill": {
     "duration": 0.128892,
     "end_time": "2024-02-19T11:22:04.969637",
     "exception": false,
     "start_time": "2024-02-19T11:22:04.840745",
     "status": "completed"
    },
    "tags": []
   },
   "outputs": [],
   "source": [
    "train = pd.read_csv(\"/kaggle/input/house-prices-advanced-regression-techniques/train.csv\")\n",
    "test = pd.read_csv(\"/kaggle/input/house-prices-advanced-regression-techniques/test.csv\")"
   ]
  },
  {
   "cell_type": "code",
   "execution_count": 3,
   "id": "14920e36",
   "metadata": {
    "execution": {
     "iopub.execute_input": "2024-02-19T11:22:04.997870Z",
     "iopub.status.busy": "2024-02-19T11:22:04.996314Z",
     "iopub.status.idle": "2024-02-19T11:22:05.037482Z",
     "shell.execute_reply": "2024-02-19T11:22:05.036255Z"
    },
    "papermill": {
     "duration": 0.057943,
     "end_time": "2024-02-19T11:22:05.040102",
     "exception": false,
     "start_time": "2024-02-19T11:22:04.982159",
     "status": "completed"
    },
    "tags": []
   },
   "outputs": [
    {
     "data": {
      "text/html": [
       "<div>\n",
       "<style scoped>\n",
       "    .dataframe tbody tr th:only-of-type {\n",
       "        vertical-align: middle;\n",
       "    }\n",
       "\n",
       "    .dataframe tbody tr th {\n",
       "        vertical-align: top;\n",
       "    }\n",
       "\n",
       "    .dataframe thead th {\n",
       "        text-align: right;\n",
       "    }\n",
       "</style>\n",
       "<table border=\"1\" class=\"dataframe\">\n",
       "  <thead>\n",
       "    <tr style=\"text-align: right;\">\n",
       "      <th></th>\n",
       "      <th>Id</th>\n",
       "      <th>MSSubClass</th>\n",
       "      <th>MSZoning</th>\n",
       "      <th>LotFrontage</th>\n",
       "      <th>LotArea</th>\n",
       "      <th>Street</th>\n",
       "      <th>Alley</th>\n",
       "      <th>LotShape</th>\n",
       "      <th>LandContour</th>\n",
       "      <th>Utilities</th>\n",
       "      <th>...</th>\n",
       "      <th>PoolArea</th>\n",
       "      <th>PoolQC</th>\n",
       "      <th>Fence</th>\n",
       "      <th>MiscFeature</th>\n",
       "      <th>MiscVal</th>\n",
       "      <th>MoSold</th>\n",
       "      <th>YrSold</th>\n",
       "      <th>SaleType</th>\n",
       "      <th>SaleCondition</th>\n",
       "      <th>SalePrice</th>\n",
       "    </tr>\n",
       "  </thead>\n",
       "  <tbody>\n",
       "    <tr>\n",
       "      <th>0</th>\n",
       "      <td>1</td>\n",
       "      <td>60</td>\n",
       "      <td>RL</td>\n",
       "      <td>65.0</td>\n",
       "      <td>8450</td>\n",
       "      <td>Pave</td>\n",
       "      <td>NaN</td>\n",
       "      <td>Reg</td>\n",
       "      <td>Lvl</td>\n",
       "      <td>AllPub</td>\n",
       "      <td>...</td>\n",
       "      <td>0</td>\n",
       "      <td>NaN</td>\n",
       "      <td>NaN</td>\n",
       "      <td>NaN</td>\n",
       "      <td>0</td>\n",
       "      <td>2</td>\n",
       "      <td>2008</td>\n",
       "      <td>WD</td>\n",
       "      <td>Normal</td>\n",
       "      <td>208500</td>\n",
       "    </tr>\n",
       "    <tr>\n",
       "      <th>1</th>\n",
       "      <td>2</td>\n",
       "      <td>20</td>\n",
       "      <td>RL</td>\n",
       "      <td>80.0</td>\n",
       "      <td>9600</td>\n",
       "      <td>Pave</td>\n",
       "      <td>NaN</td>\n",
       "      <td>Reg</td>\n",
       "      <td>Lvl</td>\n",
       "      <td>AllPub</td>\n",
       "      <td>...</td>\n",
       "      <td>0</td>\n",
       "      <td>NaN</td>\n",
       "      <td>NaN</td>\n",
       "      <td>NaN</td>\n",
       "      <td>0</td>\n",
       "      <td>5</td>\n",
       "      <td>2007</td>\n",
       "      <td>WD</td>\n",
       "      <td>Normal</td>\n",
       "      <td>181500</td>\n",
       "    </tr>\n",
       "    <tr>\n",
       "      <th>2</th>\n",
       "      <td>3</td>\n",
       "      <td>60</td>\n",
       "      <td>RL</td>\n",
       "      <td>68.0</td>\n",
       "      <td>11250</td>\n",
       "      <td>Pave</td>\n",
       "      <td>NaN</td>\n",
       "      <td>IR1</td>\n",
       "      <td>Lvl</td>\n",
       "      <td>AllPub</td>\n",
       "      <td>...</td>\n",
       "      <td>0</td>\n",
       "      <td>NaN</td>\n",
       "      <td>NaN</td>\n",
       "      <td>NaN</td>\n",
       "      <td>0</td>\n",
       "      <td>9</td>\n",
       "      <td>2008</td>\n",
       "      <td>WD</td>\n",
       "      <td>Normal</td>\n",
       "      <td>223500</td>\n",
       "    </tr>\n",
       "    <tr>\n",
       "      <th>3</th>\n",
       "      <td>4</td>\n",
       "      <td>70</td>\n",
       "      <td>RL</td>\n",
       "      <td>60.0</td>\n",
       "      <td>9550</td>\n",
       "      <td>Pave</td>\n",
       "      <td>NaN</td>\n",
       "      <td>IR1</td>\n",
       "      <td>Lvl</td>\n",
       "      <td>AllPub</td>\n",
       "      <td>...</td>\n",
       "      <td>0</td>\n",
       "      <td>NaN</td>\n",
       "      <td>NaN</td>\n",
       "      <td>NaN</td>\n",
       "      <td>0</td>\n",
       "      <td>2</td>\n",
       "      <td>2006</td>\n",
       "      <td>WD</td>\n",
       "      <td>Abnorml</td>\n",
       "      <td>140000</td>\n",
       "    </tr>\n",
       "    <tr>\n",
       "      <th>4</th>\n",
       "      <td>5</td>\n",
       "      <td>60</td>\n",
       "      <td>RL</td>\n",
       "      <td>84.0</td>\n",
       "      <td>14260</td>\n",
       "      <td>Pave</td>\n",
       "      <td>NaN</td>\n",
       "      <td>IR1</td>\n",
       "      <td>Lvl</td>\n",
       "      <td>AllPub</td>\n",
       "      <td>...</td>\n",
       "      <td>0</td>\n",
       "      <td>NaN</td>\n",
       "      <td>NaN</td>\n",
       "      <td>NaN</td>\n",
       "      <td>0</td>\n",
       "      <td>12</td>\n",
       "      <td>2008</td>\n",
       "      <td>WD</td>\n",
       "      <td>Normal</td>\n",
       "      <td>250000</td>\n",
       "    </tr>\n",
       "  </tbody>\n",
       "</table>\n",
       "<p>5 rows × 81 columns</p>\n",
       "</div>"
      ],
      "text/plain": [
       "   Id  MSSubClass MSZoning  LotFrontage  LotArea Street Alley LotShape  \\\n",
       "0   1          60       RL         65.0     8450   Pave   NaN      Reg   \n",
       "1   2          20       RL         80.0     9600   Pave   NaN      Reg   \n",
       "2   3          60       RL         68.0    11250   Pave   NaN      IR1   \n",
       "3   4          70       RL         60.0     9550   Pave   NaN      IR1   \n",
       "4   5          60       RL         84.0    14260   Pave   NaN      IR1   \n",
       "\n",
       "  LandContour Utilities  ... PoolArea PoolQC Fence MiscFeature MiscVal MoSold  \\\n",
       "0         Lvl    AllPub  ...        0    NaN   NaN         NaN       0      2   \n",
       "1         Lvl    AllPub  ...        0    NaN   NaN         NaN       0      5   \n",
       "2         Lvl    AllPub  ...        0    NaN   NaN         NaN       0      9   \n",
       "3         Lvl    AllPub  ...        0    NaN   NaN         NaN       0      2   \n",
       "4         Lvl    AllPub  ...        0    NaN   NaN         NaN       0     12   \n",
       "\n",
       "  YrSold  SaleType  SaleCondition  SalePrice  \n",
       "0   2008        WD         Normal     208500  \n",
       "1   2007        WD         Normal     181500  \n",
       "2   2008        WD         Normal     223500  \n",
       "3   2006        WD        Abnorml     140000  \n",
       "4   2008        WD         Normal     250000  \n",
       "\n",
       "[5 rows x 81 columns]"
      ]
     },
     "execution_count": 3,
     "metadata": {},
     "output_type": "execute_result"
    }
   ],
   "source": [
    "train.head()"
   ]
  },
  {
   "cell_type": "code",
   "execution_count": 4,
   "id": "f0f35ac8",
   "metadata": {
    "execution": {
     "iopub.execute_input": "2024-02-19T11:22:05.070079Z",
     "iopub.status.busy": "2024-02-19T11:22:05.069653Z",
     "iopub.status.idle": "2024-02-19T11:22:05.079996Z",
     "shell.execute_reply": "2024-02-19T11:22:05.078639Z"
    },
    "papermill": {
     "duration": 0.029464,
     "end_time": "2024-02-19T11:22:05.082852",
     "exception": false,
     "start_time": "2024-02-19T11:22:05.053388",
     "status": "completed"
    },
    "tags": []
   },
   "outputs": [],
   "source": [
    "y_train = train.SalePrice\n",
    "x_train = train.drop(columns = \"SalePrice\")"
   ]
  },
  {
   "cell_type": "code",
   "execution_count": 5,
   "id": "d1f8530e",
   "metadata": {
    "execution": {
     "iopub.execute_input": "2024-02-19T11:22:05.111996Z",
     "iopub.status.busy": "2024-02-19T11:22:05.111509Z",
     "iopub.status.idle": "2024-02-19T11:22:05.119304Z",
     "shell.execute_reply": "2024-02-19T11:22:05.118049Z"
    },
    "papermill": {
     "duration": 0.025571,
     "end_time": "2024-02-19T11:22:05.122044",
     "exception": false,
     "start_time": "2024-02-19T11:22:05.096473",
     "status": "completed"
    },
    "tags": []
   },
   "outputs": [
    {
     "data": {
      "text/plain": [
       "(1460, 80)"
      ]
     },
     "execution_count": 5,
     "metadata": {},
     "output_type": "execute_result"
    }
   ],
   "source": [
    "x_train.shape"
   ]
  },
  {
   "cell_type": "code",
   "execution_count": 6,
   "id": "32e90646",
   "metadata": {
    "execution": {
     "iopub.execute_input": "2024-02-19T11:22:05.151288Z",
     "iopub.status.busy": "2024-02-19T11:22:05.150842Z",
     "iopub.status.idle": "2024-02-19T11:22:05.158661Z",
     "shell.execute_reply": "2024-02-19T11:22:05.157636Z"
    },
    "papermill": {
     "duration": 0.025451,
     "end_time": "2024-02-19T11:22:05.161115",
     "exception": false,
     "start_time": "2024-02-19T11:22:05.135664",
     "status": "completed"
    },
    "tags": []
   },
   "outputs": [
    {
     "data": {
      "text/plain": [
       "(1459, 80)"
      ]
     },
     "execution_count": 6,
     "metadata": {},
     "output_type": "execute_result"
    }
   ],
   "source": [
    "test.shape"
   ]
  },
  {
   "cell_type": "code",
   "execution_count": 7,
   "id": "1ad5c78e",
   "metadata": {
    "execution": {
     "iopub.execute_input": "2024-02-19T11:22:05.190854Z",
     "iopub.status.busy": "2024-02-19T11:22:05.190347Z",
     "iopub.status.idle": "2024-02-19T11:22:05.202697Z",
     "shell.execute_reply": "2024-02-19T11:22:05.201255Z"
    },
    "papermill": {
     "duration": 0.030878,
     "end_time": "2024-02-19T11:22:05.205881",
     "exception": false,
     "start_time": "2024-02-19T11:22:05.175003",
     "status": "completed"
    },
    "tags": []
   },
   "outputs": [],
   "source": [
    "full_data = pd.concat([x_train, test])"
   ]
  },
  {
   "cell_type": "code",
   "execution_count": 8,
   "id": "0fee20f2",
   "metadata": {
    "execution": {
     "iopub.execute_input": "2024-02-19T11:22:05.236488Z",
     "iopub.status.busy": "2024-02-19T11:22:05.236034Z",
     "iopub.status.idle": "2024-02-19T11:22:05.244054Z",
     "shell.execute_reply": "2024-02-19T11:22:05.242706Z"
    },
    "papermill": {
     "duration": 0.026679,
     "end_time": "2024-02-19T11:22:05.247045",
     "exception": false,
     "start_time": "2024-02-19T11:22:05.220366",
     "status": "completed"
    },
    "tags": []
   },
   "outputs": [
    {
     "data": {
      "text/plain": [
       "(2919, 80)"
      ]
     },
     "execution_count": 8,
     "metadata": {},
     "output_type": "execute_result"
    }
   ],
   "source": [
    "full_data.shape"
   ]
  },
  {
   "cell_type": "code",
   "execution_count": 9,
   "id": "2fafa924",
   "metadata": {
    "execution": {
     "iopub.execute_input": "2024-02-19T11:22:05.276656Z",
     "iopub.status.busy": "2024-02-19T11:22:05.276201Z",
     "iopub.status.idle": "2024-02-19T11:22:05.283265Z",
     "shell.execute_reply": "2024-02-19T11:22:05.282153Z"
    },
    "papermill": {
     "duration": 0.024977,
     "end_time": "2024-02-19T11:22:05.285942",
     "exception": false,
     "start_time": "2024-02-19T11:22:05.260965",
     "status": "completed"
    },
    "tags": []
   },
   "outputs": [
    {
     "data": {
      "text/plain": [
       "(2919, 80)"
      ]
     },
     "execution_count": 9,
     "metadata": {},
     "output_type": "execute_result"
    }
   ],
   "source": [
    "full_data.shape"
   ]
  },
  {
   "cell_type": "code",
   "execution_count": 10,
   "id": "6c60fc1b",
   "metadata": {
    "execution": {
     "iopub.execute_input": "2024-02-19T11:22:05.316466Z",
     "iopub.status.busy": "2024-02-19T11:22:05.316080Z",
     "iopub.status.idle": "2024-02-19T11:22:05.321108Z",
     "shell.execute_reply": "2024-02-19T11:22:05.319636Z"
    },
    "papermill": {
     "duration": 0.024027,
     "end_time": "2024-02-19T11:22:05.323780",
     "exception": false,
     "start_time": "2024-02-19T11:22:05.299753",
     "status": "completed"
    },
    "tags": []
   },
   "outputs": [],
   "source": [
    "#train.head()"
   ]
  },
  {
   "cell_type": "code",
   "execution_count": 11,
   "id": "9dd2235b",
   "metadata": {
    "execution": {
     "iopub.execute_input": "2024-02-19T11:22:05.353994Z",
     "iopub.status.busy": "2024-02-19T11:22:05.353626Z",
     "iopub.status.idle": "2024-02-19T11:22:05.370427Z",
     "shell.execute_reply": "2024-02-19T11:22:05.369161Z"
    },
    "papermill": {
     "duration": 0.035001,
     "end_time": "2024-02-19T11:22:05.373120",
     "exception": false,
     "start_time": "2024-02-19T11:22:05.338119",
     "status": "completed"
    },
    "tags": []
   },
   "outputs": [
    {
     "data": {
      "text/plain": [
       "object     43\n",
       "int64      26\n",
       "float64    11\n",
       "Name: count, dtype: int64"
      ]
     },
     "execution_count": 11,
     "metadata": {},
     "output_type": "execute_result"
    }
   ],
   "source": [
    "full_data.dtypes.value_counts()"
   ]
  },
  {
   "cell_type": "code",
   "execution_count": 12,
   "id": "f364c60e",
   "metadata": {
    "execution": {
     "iopub.execute_input": "2024-02-19T11:22:05.405046Z",
     "iopub.status.busy": "2024-02-19T11:22:05.403561Z",
     "iopub.status.idle": "2024-02-19T11:22:05.434914Z",
     "shell.execute_reply": "2024-02-19T11:22:05.433346Z"
    },
    "papermill": {
     "duration": 0.050011,
     "end_time": "2024-02-19T11:22:05.437855",
     "exception": false,
     "start_time": "2024-02-19T11:22:05.387844",
     "status": "completed"
    },
    "tags": []
   },
   "outputs": [
    {
     "data": {
      "text/plain": [
       "Id                 0\n",
       "MSSubClass         0\n",
       "MSZoning           4\n",
       "LotFrontage      486\n",
       "LotArea            0\n",
       "                ... \n",
       "MiscVal            0\n",
       "MoSold             0\n",
       "YrSold             0\n",
       "SaleType           1\n",
       "SaleCondition      0\n",
       "Length: 80, dtype: int64"
      ]
     },
     "execution_count": 12,
     "metadata": {},
     "output_type": "execute_result"
    }
   ],
   "source": [
    "full_data.isnull().sum()"
   ]
  },
  {
   "cell_type": "code",
   "execution_count": 13,
   "id": "f706e803",
   "metadata": {
    "execution": {
     "iopub.execute_input": "2024-02-19T11:22:05.469436Z",
     "iopub.status.busy": "2024-02-19T11:22:05.469022Z",
     "iopub.status.idle": "2024-02-19T11:22:05.490033Z",
     "shell.execute_reply": "2024-02-19T11:22:05.488964Z"
    },
    "papermill": {
     "duration": 0.039798,
     "end_time": "2024-02-19T11:22:05.492574",
     "exception": false,
     "start_time": "2024-02-19T11:22:05.452776",
     "status": "completed"
    },
    "tags": []
   },
   "outputs": [
    {
     "name": "stdout",
     "output_type": "stream",
     "text": [
      "Index(['MSZoning', 'LotFrontage', 'Alley', 'Utilities', 'Exterior1st',\n",
      "       'Exterior2nd', 'MasVnrType', 'MasVnrArea', 'BsmtQual', 'BsmtCond',\n",
      "       'BsmtExposure', 'BsmtFinType1', 'BsmtFinSF1', 'BsmtFinType2',\n",
      "       'BsmtFinSF2', 'BsmtUnfSF', 'TotalBsmtSF', 'Electrical', 'BsmtFullBath',\n",
      "       'BsmtHalfBath', 'KitchenQual', 'Functional', 'FireplaceQu',\n",
      "       'GarageType', 'GarageYrBlt', 'GarageFinish', 'GarageCars', 'GarageArea',\n",
      "       'GarageQual', 'GarageCond', 'PoolQC', 'Fence', 'MiscFeature',\n",
      "       'SaleType'],\n",
      "      dtype='object')\n"
     ]
    }
   ],
   "source": [
    "null_columns = full_data.columns[full_data.isnull().any()]\n",
    "print(null_columns)"
   ]
  },
  {
   "cell_type": "code",
   "execution_count": 14,
   "id": "3fc40bcb",
   "metadata": {
    "execution": {
     "iopub.execute_input": "2024-02-19T11:22:05.524337Z",
     "iopub.status.busy": "2024-02-19T11:22:05.523710Z",
     "iopub.status.idle": "2024-02-19T11:22:05.528948Z",
     "shell.execute_reply": "2024-02-19T11:22:05.527591Z"
    },
    "papermill": {
     "duration": 0.024098,
     "end_time": "2024-02-19T11:22:05.531616",
     "exception": false,
     "start_time": "2024-02-19T11:22:05.507518",
     "status": "completed"
    },
    "tags": []
   },
   "outputs": [],
   "source": [
    "#null_counts = train[null_columns].isnull().sum()\n",
    "#print(f\" {null_counts}, {train[null_columns].dtypes} \")"
   ]
  },
  {
   "cell_type": "code",
   "execution_count": 15,
   "id": "fa1438ac",
   "metadata": {
    "execution": {
     "iopub.execute_input": "2024-02-19T11:22:05.562717Z",
     "iopub.status.busy": "2024-02-19T11:22:05.562133Z",
     "iopub.status.idle": "2024-02-19T11:22:05.588108Z",
     "shell.execute_reply": "2024-02-19T11:22:05.586821Z"
    },
    "papermill": {
     "duration": 0.044678,
     "end_time": "2024-02-19T11:22:05.590879",
     "exception": false,
     "start_time": "2024-02-19T11:22:05.546201",
     "status": "completed"
    },
    "tags": []
   },
   "outputs": [
    {
     "data": {
      "text/plain": [
       "MSZoning           5\n",
       "LotFrontage      128\n",
       "Alley              2\n",
       "Utilities          2\n",
       "Exterior1st       15\n",
       "Exterior2nd       16\n",
       "MasVnrType         3\n",
       "MasVnrArea       444\n",
       "BsmtQual           4\n",
       "BsmtCond           4\n",
       "BsmtExposure       4\n",
       "BsmtFinType1       6\n",
       "BsmtFinSF1       991\n",
       "BsmtFinType2       6\n",
       "BsmtFinSF2       272\n",
       "BsmtUnfSF       1135\n",
       "TotalBsmtSF     1058\n",
       "Electrical         5\n",
       "BsmtFullBath       4\n",
       "BsmtHalfBath       3\n",
       "KitchenQual        4\n",
       "Functional         7\n",
       "FireplaceQu        5\n",
       "GarageType         6\n",
       "GarageYrBlt      103\n",
       "GarageFinish       3\n",
       "GarageCars         6\n",
       "GarageArea       603\n",
       "GarageQual         5\n",
       "GarageCond         5\n",
       "PoolQC             3\n",
       "Fence              4\n",
       "MiscFeature        4\n",
       "SaleType           9\n",
       "dtype: int64"
      ]
     },
     "execution_count": 15,
     "metadata": {},
     "output_type": "execute_result"
    }
   ],
   "source": [
    "full_data[null_columns].nunique()"
   ]
  },
  {
   "cell_type": "code",
   "execution_count": 16,
   "id": "dd235bd8",
   "metadata": {
    "execution": {
     "iopub.execute_input": "2024-02-19T11:22:05.622148Z",
     "iopub.status.busy": "2024-02-19T11:22:05.621766Z",
     "iopub.status.idle": "2024-02-19T11:22:05.635954Z",
     "shell.execute_reply": "2024-02-19T11:22:05.633858Z"
    },
    "papermill": {
     "duration": 0.034964,
     "end_time": "2024-02-19T11:22:05.640473",
     "exception": false,
     "start_time": "2024-02-19T11:22:05.605509",
     "status": "completed"
    },
    "tags": []
   },
   "outputs": [
    {
     "data": {
      "text/plain": [
       "MSZoning         object\n",
       "LotFrontage     float64\n",
       "Alley            object\n",
       "Utilities        object\n",
       "Exterior1st      object\n",
       "Exterior2nd      object\n",
       "MasVnrType       object\n",
       "MasVnrArea      float64\n",
       "BsmtQual         object\n",
       "BsmtCond         object\n",
       "BsmtExposure     object\n",
       "BsmtFinType1     object\n",
       "BsmtFinSF1      float64\n",
       "BsmtFinType2     object\n",
       "BsmtFinSF2      float64\n",
       "BsmtUnfSF       float64\n",
       "TotalBsmtSF     float64\n",
       "Electrical       object\n",
       "BsmtFullBath    float64\n",
       "BsmtHalfBath    float64\n",
       "KitchenQual      object\n",
       "Functional       object\n",
       "FireplaceQu      object\n",
       "GarageType       object\n",
       "GarageYrBlt     float64\n",
       "GarageFinish     object\n",
       "GarageCars      float64\n",
       "GarageArea      float64\n",
       "GarageQual       object\n",
       "GarageCond       object\n",
       "PoolQC           object\n",
       "Fence            object\n",
       "MiscFeature      object\n",
       "SaleType         object\n",
       "dtype: object"
      ]
     },
     "execution_count": 16,
     "metadata": {},
     "output_type": "execute_result"
    }
   ],
   "source": [
    "full_data[null_columns].dtypes"
   ]
  },
  {
   "cell_type": "code",
   "execution_count": 17,
   "id": "6e8ce1fb",
   "metadata": {
    "execution": {
     "iopub.execute_input": "2024-02-19T11:22:05.672854Z",
     "iopub.status.busy": "2024-02-19T11:22:05.672395Z",
     "iopub.status.idle": "2024-02-19T11:22:05.696480Z",
     "shell.execute_reply": "2024-02-19T11:22:05.694960Z"
    },
    "papermill": {
     "duration": 0.04347,
     "end_time": "2024-02-19T11:22:05.699142",
     "exception": false,
     "start_time": "2024-02-19T11:22:05.655672",
     "status": "completed"
    },
    "tags": []
   },
   "outputs": [
    {
     "name": "stderr",
     "output_type": "stream",
     "text": [
      "/tmp/ipykernel_18/2617287886.py:4: FutureWarning: A value is trying to be set on a copy of a DataFrame or Series through chained assignment using an inplace method.\n",
      "The behavior will change in pandas 3.0. This inplace method will never work because the intermediate object on which we are setting values always behaves as a copy.\n",
      "\n",
      "For example, when doing 'df[col].method(value, inplace=True)', try using 'df.method({col: value}, inplace=True)' or df[col] = df[col].method(value) instead, to perform the operation inplace on the original object.\n",
      "\n",
      "\n",
      "  full_data[column].fillna(mode_value, inplace=True)\n"
     ]
    }
   ],
   "source": [
    "for column in full_data.columns:\n",
    "    if full_data[column].dtype == 'float64' and full_data[column].isnull().any():\n",
    "        mode_value = full_data[column].mode()[0]  \n",
    "        full_data[column].fillna(mode_value, inplace=True)"
   ]
  },
  {
   "cell_type": "code",
   "execution_count": 18,
   "id": "7a80771c",
   "metadata": {
    "execution": {
     "iopub.execute_input": "2024-02-19T11:22:05.731831Z",
     "iopub.status.busy": "2024-02-19T11:22:05.731413Z",
     "iopub.status.idle": "2024-02-19T11:22:05.753090Z",
     "shell.execute_reply": "2024-02-19T11:22:05.751734Z"
    },
    "papermill": {
     "duration": 0.042076,
     "end_time": "2024-02-19T11:22:05.756189",
     "exception": false,
     "start_time": "2024-02-19T11:22:05.714113",
     "status": "completed"
    },
    "tags": []
   },
   "outputs": [
    {
     "name": "stdout",
     "output_type": "stream",
     "text": [
      "Index(['MSZoning', 'Alley', 'Utilities', 'Exterior1st', 'Exterior2nd',\n",
      "       'MasVnrType', 'BsmtQual', 'BsmtCond', 'BsmtExposure', 'BsmtFinType1',\n",
      "       'BsmtFinType2', 'Electrical', 'KitchenQual', 'Functional',\n",
      "       'FireplaceQu', 'GarageType', 'GarageFinish', 'GarageQual', 'GarageCond',\n",
      "       'PoolQC', 'Fence', 'MiscFeature', 'SaleType'],\n",
      "      dtype='object')\n"
     ]
    }
   ],
   "source": [
    "null_columns = full_data.columns[full_data.isnull().any()]\n",
    "print(null_columns)"
   ]
  },
  {
   "cell_type": "code",
   "execution_count": 19,
   "id": "ac73f8e9",
   "metadata": {
    "execution": {
     "iopub.execute_input": "2024-02-19T11:22:05.788560Z",
     "iopub.status.busy": "2024-02-19T11:22:05.788152Z",
     "iopub.status.idle": "2024-02-19T11:22:05.809348Z",
     "shell.execute_reply": "2024-02-19T11:22:05.807814Z"
    },
    "papermill": {
     "duration": 0.041202,
     "end_time": "2024-02-19T11:22:05.812636",
     "exception": false,
     "start_time": "2024-02-19T11:22:05.771434",
     "status": "completed"
    },
    "tags": []
   },
   "outputs": [
    {
     "name": "stdout",
     "output_type": "stream",
     "text": [
      " MSZoning           4\n",
      "Alley           2721\n",
      "Utilities          2\n",
      "Exterior1st        1\n",
      "Exterior2nd        1\n",
      "MasVnrType      1766\n",
      "BsmtQual          81\n",
      "BsmtCond          82\n",
      "BsmtExposure      82\n",
      "BsmtFinType1      79\n",
      "BsmtFinType2      80\n",
      "Electrical         1\n",
      "KitchenQual        1\n",
      "Functional         2\n",
      "FireplaceQu     1420\n",
      "GarageType       157\n",
      "GarageFinish     159\n",
      "GarageQual       159\n",
      "GarageCond       159\n",
      "PoolQC          2909\n",
      "Fence           2348\n",
      "MiscFeature     2814\n",
      "SaleType           1\n",
      "dtype: int64, MSZoning        object\n",
      "Alley           object\n",
      "Utilities       object\n",
      "Exterior1st     object\n",
      "Exterior2nd     object\n",
      "MasVnrType      object\n",
      "BsmtQual        object\n",
      "BsmtCond        object\n",
      "BsmtExposure    object\n",
      "BsmtFinType1    object\n",
      "BsmtFinType2    object\n",
      "Electrical      object\n",
      "KitchenQual     object\n",
      "Functional      object\n",
      "FireplaceQu     object\n",
      "GarageType      object\n",
      "GarageFinish    object\n",
      "GarageQual      object\n",
      "GarageCond      object\n",
      "PoolQC          object\n",
      "Fence           object\n",
      "MiscFeature     object\n",
      "SaleType        object\n",
      "dtype: object \n"
     ]
    }
   ],
   "source": [
    "null_counts = full_data[null_columns].isnull().sum()\n",
    "print(f\" {null_counts}, {full_data[null_columns].dtypes} \")"
   ]
  },
  {
   "cell_type": "code",
   "execution_count": 20,
   "id": "5d0e0c3d",
   "metadata": {
    "execution": {
     "iopub.execute_input": "2024-02-19T11:22:05.847886Z",
     "iopub.status.busy": "2024-02-19T11:22:05.846412Z",
     "iopub.status.idle": "2024-02-19T11:22:05.887438Z",
     "shell.execute_reply": "2024-02-19T11:22:05.885933Z"
    },
    "papermill": {
     "duration": 0.061341,
     "end_time": "2024-02-19T11:22:05.890102",
     "exception": false,
     "start_time": "2024-02-19T11:22:05.828761",
     "status": "completed"
    },
    "tags": []
   },
   "outputs": [
    {
     "data": {
      "text/html": [
       "<div>\n",
       "<style scoped>\n",
       "    .dataframe tbody tr th:only-of-type {\n",
       "        vertical-align: middle;\n",
       "    }\n",
       "\n",
       "    .dataframe tbody tr th {\n",
       "        vertical-align: top;\n",
       "    }\n",
       "\n",
       "    .dataframe thead th {\n",
       "        text-align: right;\n",
       "    }\n",
       "</style>\n",
       "<table border=\"1\" class=\"dataframe\">\n",
       "  <thead>\n",
       "    <tr style=\"text-align: right;\">\n",
       "      <th></th>\n",
       "      <th>MSZoning</th>\n",
       "      <th>Alley</th>\n",
       "      <th>Utilities</th>\n",
       "      <th>Exterior1st</th>\n",
       "      <th>Exterior2nd</th>\n",
       "      <th>MasVnrType</th>\n",
       "      <th>BsmtQual</th>\n",
       "      <th>BsmtCond</th>\n",
       "      <th>BsmtExposure</th>\n",
       "      <th>BsmtFinType1</th>\n",
       "      <th>...</th>\n",
       "      <th>Functional</th>\n",
       "      <th>FireplaceQu</th>\n",
       "      <th>GarageType</th>\n",
       "      <th>GarageFinish</th>\n",
       "      <th>GarageQual</th>\n",
       "      <th>GarageCond</th>\n",
       "      <th>PoolQC</th>\n",
       "      <th>Fence</th>\n",
       "      <th>MiscFeature</th>\n",
       "      <th>SaleType</th>\n",
       "    </tr>\n",
       "  </thead>\n",
       "  <tbody>\n",
       "    <tr>\n",
       "      <th>0</th>\n",
       "      <td>RL</td>\n",
       "      <td>NaN</td>\n",
       "      <td>AllPub</td>\n",
       "      <td>VinylSd</td>\n",
       "      <td>VinylSd</td>\n",
       "      <td>BrkFace</td>\n",
       "      <td>Gd</td>\n",
       "      <td>TA</td>\n",
       "      <td>No</td>\n",
       "      <td>GLQ</td>\n",
       "      <td>...</td>\n",
       "      <td>Typ</td>\n",
       "      <td>NaN</td>\n",
       "      <td>Attchd</td>\n",
       "      <td>RFn</td>\n",
       "      <td>TA</td>\n",
       "      <td>TA</td>\n",
       "      <td>NaN</td>\n",
       "      <td>NaN</td>\n",
       "      <td>NaN</td>\n",
       "      <td>WD</td>\n",
       "    </tr>\n",
       "    <tr>\n",
       "      <th>1</th>\n",
       "      <td>RL</td>\n",
       "      <td>NaN</td>\n",
       "      <td>AllPub</td>\n",
       "      <td>MetalSd</td>\n",
       "      <td>MetalSd</td>\n",
       "      <td>NaN</td>\n",
       "      <td>Gd</td>\n",
       "      <td>TA</td>\n",
       "      <td>Gd</td>\n",
       "      <td>ALQ</td>\n",
       "      <td>...</td>\n",
       "      <td>Typ</td>\n",
       "      <td>TA</td>\n",
       "      <td>Attchd</td>\n",
       "      <td>RFn</td>\n",
       "      <td>TA</td>\n",
       "      <td>TA</td>\n",
       "      <td>NaN</td>\n",
       "      <td>NaN</td>\n",
       "      <td>NaN</td>\n",
       "      <td>WD</td>\n",
       "    </tr>\n",
       "    <tr>\n",
       "      <th>2</th>\n",
       "      <td>RL</td>\n",
       "      <td>NaN</td>\n",
       "      <td>AllPub</td>\n",
       "      <td>VinylSd</td>\n",
       "      <td>VinylSd</td>\n",
       "      <td>BrkFace</td>\n",
       "      <td>Gd</td>\n",
       "      <td>TA</td>\n",
       "      <td>Mn</td>\n",
       "      <td>GLQ</td>\n",
       "      <td>...</td>\n",
       "      <td>Typ</td>\n",
       "      <td>TA</td>\n",
       "      <td>Attchd</td>\n",
       "      <td>RFn</td>\n",
       "      <td>TA</td>\n",
       "      <td>TA</td>\n",
       "      <td>NaN</td>\n",
       "      <td>NaN</td>\n",
       "      <td>NaN</td>\n",
       "      <td>WD</td>\n",
       "    </tr>\n",
       "    <tr>\n",
       "      <th>3</th>\n",
       "      <td>RL</td>\n",
       "      <td>NaN</td>\n",
       "      <td>AllPub</td>\n",
       "      <td>Wd Sdng</td>\n",
       "      <td>Wd Shng</td>\n",
       "      <td>NaN</td>\n",
       "      <td>TA</td>\n",
       "      <td>Gd</td>\n",
       "      <td>No</td>\n",
       "      <td>ALQ</td>\n",
       "      <td>...</td>\n",
       "      <td>Typ</td>\n",
       "      <td>Gd</td>\n",
       "      <td>Detchd</td>\n",
       "      <td>Unf</td>\n",
       "      <td>TA</td>\n",
       "      <td>TA</td>\n",
       "      <td>NaN</td>\n",
       "      <td>NaN</td>\n",
       "      <td>NaN</td>\n",
       "      <td>WD</td>\n",
       "    </tr>\n",
       "    <tr>\n",
       "      <th>4</th>\n",
       "      <td>RL</td>\n",
       "      <td>NaN</td>\n",
       "      <td>AllPub</td>\n",
       "      <td>VinylSd</td>\n",
       "      <td>VinylSd</td>\n",
       "      <td>BrkFace</td>\n",
       "      <td>Gd</td>\n",
       "      <td>TA</td>\n",
       "      <td>Av</td>\n",
       "      <td>GLQ</td>\n",
       "      <td>...</td>\n",
       "      <td>Typ</td>\n",
       "      <td>TA</td>\n",
       "      <td>Attchd</td>\n",
       "      <td>RFn</td>\n",
       "      <td>TA</td>\n",
       "      <td>TA</td>\n",
       "      <td>NaN</td>\n",
       "      <td>NaN</td>\n",
       "      <td>NaN</td>\n",
       "      <td>WD</td>\n",
       "    </tr>\n",
       "    <tr>\n",
       "      <th>...</th>\n",
       "      <td>...</td>\n",
       "      <td>...</td>\n",
       "      <td>...</td>\n",
       "      <td>...</td>\n",
       "      <td>...</td>\n",
       "      <td>...</td>\n",
       "      <td>...</td>\n",
       "      <td>...</td>\n",
       "      <td>...</td>\n",
       "      <td>...</td>\n",
       "      <td>...</td>\n",
       "      <td>...</td>\n",
       "      <td>...</td>\n",
       "      <td>...</td>\n",
       "      <td>...</td>\n",
       "      <td>...</td>\n",
       "      <td>...</td>\n",
       "      <td>...</td>\n",
       "      <td>...</td>\n",
       "      <td>...</td>\n",
       "      <td>...</td>\n",
       "    </tr>\n",
       "    <tr>\n",
       "      <th>1454</th>\n",
       "      <td>RM</td>\n",
       "      <td>NaN</td>\n",
       "      <td>AllPub</td>\n",
       "      <td>CemntBd</td>\n",
       "      <td>CmentBd</td>\n",
       "      <td>NaN</td>\n",
       "      <td>TA</td>\n",
       "      <td>TA</td>\n",
       "      <td>No</td>\n",
       "      <td>Unf</td>\n",
       "      <td>...</td>\n",
       "      <td>Typ</td>\n",
       "      <td>NaN</td>\n",
       "      <td>NaN</td>\n",
       "      <td>NaN</td>\n",
       "      <td>NaN</td>\n",
       "      <td>NaN</td>\n",
       "      <td>NaN</td>\n",
       "      <td>NaN</td>\n",
       "      <td>NaN</td>\n",
       "      <td>WD</td>\n",
       "    </tr>\n",
       "    <tr>\n",
       "      <th>1455</th>\n",
       "      <td>RM</td>\n",
       "      <td>NaN</td>\n",
       "      <td>AllPub</td>\n",
       "      <td>CemntBd</td>\n",
       "      <td>CmentBd</td>\n",
       "      <td>NaN</td>\n",
       "      <td>TA</td>\n",
       "      <td>TA</td>\n",
       "      <td>No</td>\n",
       "      <td>Rec</td>\n",
       "      <td>...</td>\n",
       "      <td>Typ</td>\n",
       "      <td>NaN</td>\n",
       "      <td>CarPort</td>\n",
       "      <td>Unf</td>\n",
       "      <td>TA</td>\n",
       "      <td>TA</td>\n",
       "      <td>NaN</td>\n",
       "      <td>NaN</td>\n",
       "      <td>NaN</td>\n",
       "      <td>WD</td>\n",
       "    </tr>\n",
       "    <tr>\n",
       "      <th>1456</th>\n",
       "      <td>RL</td>\n",
       "      <td>NaN</td>\n",
       "      <td>AllPub</td>\n",
       "      <td>VinylSd</td>\n",
       "      <td>VinylSd</td>\n",
       "      <td>NaN</td>\n",
       "      <td>TA</td>\n",
       "      <td>TA</td>\n",
       "      <td>No</td>\n",
       "      <td>ALQ</td>\n",
       "      <td>...</td>\n",
       "      <td>Typ</td>\n",
       "      <td>TA</td>\n",
       "      <td>Detchd</td>\n",
       "      <td>Unf</td>\n",
       "      <td>TA</td>\n",
       "      <td>TA</td>\n",
       "      <td>NaN</td>\n",
       "      <td>NaN</td>\n",
       "      <td>NaN</td>\n",
       "      <td>WD</td>\n",
       "    </tr>\n",
       "    <tr>\n",
       "      <th>1457</th>\n",
       "      <td>RL</td>\n",
       "      <td>NaN</td>\n",
       "      <td>AllPub</td>\n",
       "      <td>HdBoard</td>\n",
       "      <td>Wd Shng</td>\n",
       "      <td>NaN</td>\n",
       "      <td>Gd</td>\n",
       "      <td>TA</td>\n",
       "      <td>Av</td>\n",
       "      <td>GLQ</td>\n",
       "      <td>...</td>\n",
       "      <td>Typ</td>\n",
       "      <td>NaN</td>\n",
       "      <td>NaN</td>\n",
       "      <td>NaN</td>\n",
       "      <td>NaN</td>\n",
       "      <td>NaN</td>\n",
       "      <td>NaN</td>\n",
       "      <td>MnPrv</td>\n",
       "      <td>Shed</td>\n",
       "      <td>WD</td>\n",
       "    </tr>\n",
       "    <tr>\n",
       "      <th>1458</th>\n",
       "      <td>RL</td>\n",
       "      <td>NaN</td>\n",
       "      <td>AllPub</td>\n",
       "      <td>HdBoard</td>\n",
       "      <td>HdBoard</td>\n",
       "      <td>BrkFace</td>\n",
       "      <td>Gd</td>\n",
       "      <td>TA</td>\n",
       "      <td>Av</td>\n",
       "      <td>LwQ</td>\n",
       "      <td>...</td>\n",
       "      <td>Typ</td>\n",
       "      <td>TA</td>\n",
       "      <td>Attchd</td>\n",
       "      <td>Fin</td>\n",
       "      <td>TA</td>\n",
       "      <td>TA</td>\n",
       "      <td>NaN</td>\n",
       "      <td>NaN</td>\n",
       "      <td>NaN</td>\n",
       "      <td>WD</td>\n",
       "    </tr>\n",
       "  </tbody>\n",
       "</table>\n",
       "<p>2919 rows × 23 columns</p>\n",
       "</div>"
      ],
      "text/plain": [
       "     MSZoning Alley Utilities Exterior1st Exterior2nd MasVnrType BsmtQual  \\\n",
       "0          RL   NaN    AllPub     VinylSd     VinylSd    BrkFace       Gd   \n",
       "1          RL   NaN    AllPub     MetalSd     MetalSd        NaN       Gd   \n",
       "2          RL   NaN    AllPub     VinylSd     VinylSd    BrkFace       Gd   \n",
       "3          RL   NaN    AllPub     Wd Sdng     Wd Shng        NaN       TA   \n",
       "4          RL   NaN    AllPub     VinylSd     VinylSd    BrkFace       Gd   \n",
       "...       ...   ...       ...         ...         ...        ...      ...   \n",
       "1454       RM   NaN    AllPub     CemntBd     CmentBd        NaN       TA   \n",
       "1455       RM   NaN    AllPub     CemntBd     CmentBd        NaN       TA   \n",
       "1456       RL   NaN    AllPub     VinylSd     VinylSd        NaN       TA   \n",
       "1457       RL   NaN    AllPub     HdBoard     Wd Shng        NaN       Gd   \n",
       "1458       RL   NaN    AllPub     HdBoard     HdBoard    BrkFace       Gd   \n",
       "\n",
       "     BsmtCond BsmtExposure BsmtFinType1  ... Functional FireplaceQu  \\\n",
       "0          TA           No          GLQ  ...        Typ         NaN   \n",
       "1          TA           Gd          ALQ  ...        Typ          TA   \n",
       "2          TA           Mn          GLQ  ...        Typ          TA   \n",
       "3          Gd           No          ALQ  ...        Typ          Gd   \n",
       "4          TA           Av          GLQ  ...        Typ          TA   \n",
       "...       ...          ...          ...  ...        ...         ...   \n",
       "1454       TA           No          Unf  ...        Typ         NaN   \n",
       "1455       TA           No          Rec  ...        Typ         NaN   \n",
       "1456       TA           No          ALQ  ...        Typ          TA   \n",
       "1457       TA           Av          GLQ  ...        Typ         NaN   \n",
       "1458       TA           Av          LwQ  ...        Typ          TA   \n",
       "\n",
       "     GarageType GarageFinish GarageQual GarageCond PoolQC  Fence MiscFeature  \\\n",
       "0        Attchd          RFn         TA         TA    NaN    NaN         NaN   \n",
       "1        Attchd          RFn         TA         TA    NaN    NaN         NaN   \n",
       "2        Attchd          RFn         TA         TA    NaN    NaN         NaN   \n",
       "3        Detchd          Unf         TA         TA    NaN    NaN         NaN   \n",
       "4        Attchd          RFn         TA         TA    NaN    NaN         NaN   \n",
       "...         ...          ...        ...        ...    ...    ...         ...   \n",
       "1454        NaN          NaN        NaN        NaN    NaN    NaN         NaN   \n",
       "1455    CarPort          Unf         TA         TA    NaN    NaN         NaN   \n",
       "1456     Detchd          Unf         TA         TA    NaN    NaN         NaN   \n",
       "1457        NaN          NaN        NaN        NaN    NaN  MnPrv        Shed   \n",
       "1458     Attchd          Fin         TA         TA    NaN    NaN         NaN   \n",
       "\n",
       "     SaleType  \n",
       "0          WD  \n",
       "1          WD  \n",
       "2          WD  \n",
       "3          WD  \n",
       "4          WD  \n",
       "...       ...  \n",
       "1454       WD  \n",
       "1455       WD  \n",
       "1456       WD  \n",
       "1457       WD  \n",
       "1458       WD  \n",
       "\n",
       "[2919 rows x 23 columns]"
      ]
     },
     "execution_count": 20,
     "metadata": {},
     "output_type": "execute_result"
    }
   ],
   "source": [
    "full_data[null_columns]"
   ]
  },
  {
   "cell_type": "code",
   "execution_count": 21,
   "id": "f6312e79",
   "metadata": {
    "execution": {
     "iopub.execute_input": "2024-02-19T11:22:05.925573Z",
     "iopub.status.busy": "2024-02-19T11:22:05.925108Z",
     "iopub.status.idle": "2024-02-19T11:22:05.937361Z",
     "shell.execute_reply": "2024-02-19T11:22:05.935811Z"
    },
    "papermill": {
     "duration": 0.033297,
     "end_time": "2024-02-19T11:22:05.940022",
     "exception": false,
     "start_time": "2024-02-19T11:22:05.906725",
     "status": "completed"
    },
    "tags": []
   },
   "outputs": [],
   "source": [
    "unique_values = {}\n",
    "for column in null_columns:\n",
    "    unique_values[column] = full_data[column].unique()\n"
   ]
  },
  {
   "cell_type": "code",
   "execution_count": 22,
   "id": "fc126bc0",
   "metadata": {
    "execution": {
     "iopub.execute_input": "2024-02-19T11:22:05.976860Z",
     "iopub.status.busy": "2024-02-19T11:22:05.976384Z",
     "iopub.status.idle": "2024-02-19T11:22:05.983495Z",
     "shell.execute_reply": "2024-02-19T11:22:05.982599Z"
    },
    "papermill": {
     "duration": 0.029133,
     "end_time": "2024-02-19T11:22:05.986148",
     "exception": false,
     "start_time": "2024-02-19T11:22:05.957015",
     "status": "completed"
    },
    "tags": []
   },
   "outputs": [
    {
     "name": "stdout",
     "output_type": "stream",
     "text": [
      "{'MSZoning': array(['RL', 'RM', 'C (all)', 'FV', 'RH', nan], dtype=object), 'Alley': array([nan, 'Grvl', 'Pave'], dtype=object), 'Utilities': array(['AllPub', 'NoSeWa', nan], dtype=object), 'Exterior1st': array(['VinylSd', 'MetalSd', 'Wd Sdng', 'HdBoard', 'BrkFace', 'WdShing',\n",
      "       'CemntBd', 'Plywood', 'AsbShng', 'Stucco', 'BrkComm', 'AsphShn',\n",
      "       'Stone', 'ImStucc', 'CBlock', nan], dtype=object), 'Exterior2nd': array(['VinylSd', 'MetalSd', 'Wd Shng', 'HdBoard', 'Plywood', 'Wd Sdng',\n",
      "       'CmentBd', 'BrkFace', 'Stucco', 'AsbShng', 'Brk Cmn', 'ImStucc',\n",
      "       'AsphShn', 'Stone', 'Other', 'CBlock', nan], dtype=object), 'MasVnrType': array(['BrkFace', nan, 'Stone', 'BrkCmn'], dtype=object), 'BsmtQual': array(['Gd', 'TA', 'Ex', nan, 'Fa'], dtype=object), 'BsmtCond': array(['TA', 'Gd', nan, 'Fa', 'Po'], dtype=object), 'BsmtExposure': array(['No', 'Gd', 'Mn', 'Av', nan], dtype=object), 'BsmtFinType1': array(['GLQ', 'ALQ', 'Unf', 'Rec', 'BLQ', nan, 'LwQ'], dtype=object), 'BsmtFinType2': array(['Unf', 'BLQ', nan, 'ALQ', 'Rec', 'LwQ', 'GLQ'], dtype=object), 'Electrical': array(['SBrkr', 'FuseF', 'FuseA', 'FuseP', 'Mix', nan], dtype=object), 'KitchenQual': array(['Gd', 'TA', 'Ex', 'Fa', nan], dtype=object), 'Functional': array(['Typ', 'Min1', 'Maj1', 'Min2', 'Mod', 'Maj2', 'Sev', nan],\n",
      "      dtype=object), 'FireplaceQu': array([nan, 'TA', 'Gd', 'Fa', 'Ex', 'Po'], dtype=object), 'GarageType': array(['Attchd', 'Detchd', 'BuiltIn', 'CarPort', nan, 'Basment', '2Types'],\n",
      "      dtype=object), 'GarageFinish': array(['RFn', 'Unf', 'Fin', nan], dtype=object), 'GarageQual': array(['TA', 'Fa', 'Gd', nan, 'Ex', 'Po'], dtype=object), 'GarageCond': array(['TA', 'Fa', nan, 'Gd', 'Po', 'Ex'], dtype=object), 'PoolQC': array([nan, 'Ex', 'Fa', 'Gd'], dtype=object), 'Fence': array([nan, 'MnPrv', 'GdWo', 'GdPrv', 'MnWw'], dtype=object), 'MiscFeature': array([nan, 'Shed', 'Gar2', 'Othr', 'TenC'], dtype=object), 'SaleType': array(['WD', 'New', 'COD', 'ConLD', 'ConLI', 'CWD', 'ConLw', 'Con', 'Oth',\n",
      "       nan], dtype=object)}\n"
     ]
    }
   ],
   "source": [
    "print(unique_values)"
   ]
  },
  {
   "cell_type": "code",
   "execution_count": 23,
   "id": "e8cb8547",
   "metadata": {
    "execution": {
     "iopub.execute_input": "2024-02-19T11:22:06.022811Z",
     "iopub.status.busy": "2024-02-19T11:22:06.021570Z",
     "iopub.status.idle": "2024-02-19T11:22:06.058311Z",
     "shell.execute_reply": "2024-02-19T11:22:06.057277Z"
    },
    "papermill": {
     "duration": 0.057998,
     "end_time": "2024-02-19T11:22:06.061152",
     "exception": false,
     "start_time": "2024-02-19T11:22:06.003154",
     "status": "completed"
    },
    "tags": []
   },
   "outputs": [],
   "source": [
    "unique_value_counts = {}\n",
    "null_value_counts = {}\n",
    "\n",
    "for column in null_columns:\n",
    "    unique_value_counts[column] = full_data[column].value_counts()\n",
    "    null_value_counts[column] = full_data[column].isnull().sum()"
   ]
  },
  {
   "cell_type": "code",
   "execution_count": 24,
   "id": "cc5e1ed6",
   "metadata": {
    "execution": {
     "iopub.execute_input": "2024-02-19T11:22:06.097976Z",
     "iopub.status.busy": "2024-02-19T11:22:06.096927Z",
     "iopub.status.idle": "2024-02-19T11:22:06.144855Z",
     "shell.execute_reply": "2024-02-19T11:22:06.143275Z"
    },
    "papermill": {
     "duration": 0.06963,
     "end_time": "2024-02-19T11:22:06.147896",
     "exception": false,
     "start_time": "2024-02-19T11:22:06.078266",
     "status": "completed"
    },
    "tags": []
   },
   "outputs": [
    {
     "name": "stdout",
     "output_type": "stream",
     "text": [
      "Column: MSZoning\n",
      "Unique values:\n",
      "MSZoning\n",
      "RL         2265\n",
      "RM          460\n",
      "FV          139\n",
      "RH           26\n",
      "C (all)      25\n",
      "Name: count, dtype: int64\n",
      "\n",
      "Null values count: 4\n",
      "\n",
      "Column: Alley\n",
      "Unique values:\n",
      "Alley\n",
      "Grvl    120\n",
      "Pave     78\n",
      "Name: count, dtype: int64\n",
      "\n",
      "Null values count: 2721\n",
      "\n",
      "Column: Utilities\n",
      "Unique values:\n",
      "Utilities\n",
      "AllPub    2916\n",
      "NoSeWa       1\n",
      "Name: count, dtype: int64\n",
      "\n",
      "Null values count: 2\n",
      "\n",
      "Column: Exterior1st\n",
      "Unique values:\n",
      "Exterior1st\n",
      "VinylSd    1025\n",
      "MetalSd     450\n",
      "HdBoard     442\n",
      "Wd Sdng     411\n",
      "Plywood     221\n",
      "CemntBd     126\n",
      "BrkFace      87\n",
      "WdShing      56\n",
      "AsbShng      44\n",
      "Stucco       43\n",
      "BrkComm       6\n",
      "AsphShn       2\n",
      "Stone         2\n",
      "CBlock        2\n",
      "ImStucc       1\n",
      "Name: count, dtype: int64\n",
      "\n",
      "Null values count: 1\n",
      "\n",
      "Column: Exterior2nd\n",
      "Unique values:\n",
      "Exterior2nd\n",
      "VinylSd    1014\n",
      "MetalSd     447\n",
      "HdBoard     406\n",
      "Wd Sdng     391\n",
      "Plywood     270\n",
      "CmentBd     126\n",
      "Wd Shng      81\n",
      "BrkFace      47\n",
      "Stucco       47\n",
      "AsbShng      38\n",
      "Brk Cmn      22\n",
      "ImStucc      15\n",
      "Stone         6\n",
      "AsphShn       4\n",
      "CBlock        3\n",
      "Other         1\n",
      "Name: count, dtype: int64\n",
      "\n",
      "Null values count: 1\n",
      "\n",
      "Column: MasVnrType\n",
      "Unique values:\n",
      "MasVnrType\n",
      "BrkFace    879\n",
      "Stone      249\n",
      "BrkCmn      25\n",
      "Name: count, dtype: int64\n",
      "\n",
      "Null values count: 1766\n",
      "\n",
      "Column: BsmtQual\n",
      "Unique values:\n",
      "BsmtQual\n",
      "TA    1283\n",
      "Gd    1209\n",
      "Ex     258\n",
      "Fa      88\n",
      "Name: count, dtype: int64\n",
      "\n",
      "Null values count: 81\n",
      "\n",
      "Column: BsmtCond\n",
      "Unique values:\n",
      "BsmtCond\n",
      "TA    2606\n",
      "Gd     122\n",
      "Fa     104\n",
      "Po       5\n",
      "Name: count, dtype: int64\n",
      "\n",
      "Null values count: 82\n",
      "\n",
      "Column: BsmtExposure\n",
      "Unique values:\n",
      "BsmtExposure\n",
      "No    1904\n",
      "Av     418\n",
      "Gd     276\n",
      "Mn     239\n",
      "Name: count, dtype: int64\n",
      "\n",
      "Null values count: 82\n",
      "\n",
      "Column: BsmtFinType1\n",
      "Unique values:\n",
      "BsmtFinType1\n",
      "Unf    851\n",
      "GLQ    849\n",
      "ALQ    429\n",
      "Rec    288\n",
      "BLQ    269\n",
      "LwQ    154\n",
      "Name: count, dtype: int64\n",
      "\n",
      "Null values count: 79\n",
      "\n",
      "Column: BsmtFinType2\n",
      "Unique values:\n",
      "BsmtFinType2\n",
      "Unf    2493\n",
      "Rec     105\n",
      "LwQ      87\n",
      "BLQ      68\n",
      "ALQ      52\n",
      "GLQ      34\n",
      "Name: count, dtype: int64\n",
      "\n",
      "Null values count: 80\n",
      "\n",
      "Column: Electrical\n",
      "Unique values:\n",
      "Electrical\n",
      "SBrkr    2671\n",
      "FuseA     188\n",
      "FuseF      50\n",
      "FuseP       8\n",
      "Mix         1\n",
      "Name: count, dtype: int64\n",
      "\n",
      "Null values count: 1\n",
      "\n",
      "Column: KitchenQual\n",
      "Unique values:\n",
      "KitchenQual\n",
      "TA    1492\n",
      "Gd    1151\n",
      "Ex     205\n",
      "Fa      70\n",
      "Name: count, dtype: int64\n",
      "\n",
      "Null values count: 1\n",
      "\n",
      "Column: Functional\n",
      "Unique values:\n",
      "Functional\n",
      "Typ     2717\n",
      "Min2      70\n",
      "Min1      65\n",
      "Mod       35\n",
      "Maj1      19\n",
      "Maj2       9\n",
      "Sev        2\n",
      "Name: count, dtype: int64\n",
      "\n",
      "Null values count: 2\n",
      "\n",
      "Column: FireplaceQu\n",
      "Unique values:\n",
      "FireplaceQu\n",
      "Gd    744\n",
      "TA    592\n",
      "Fa     74\n",
      "Po     46\n",
      "Ex     43\n",
      "Name: count, dtype: int64\n",
      "\n",
      "Null values count: 1420\n",
      "\n",
      "Column: GarageType\n",
      "Unique values:\n",
      "GarageType\n",
      "Attchd     1723\n",
      "Detchd      779\n",
      "BuiltIn     186\n",
      "Basment      36\n",
      "2Types       23\n",
      "CarPort      15\n",
      "Name: count, dtype: int64\n",
      "\n",
      "Null values count: 157\n",
      "\n",
      "Column: GarageFinish\n",
      "Unique values:\n",
      "GarageFinish\n",
      "Unf    1230\n",
      "RFn     811\n",
      "Fin     719\n",
      "Name: count, dtype: int64\n",
      "\n",
      "Null values count: 159\n",
      "\n",
      "Column: GarageQual\n",
      "Unique values:\n",
      "GarageQual\n",
      "TA    2604\n",
      "Fa     124\n",
      "Gd      24\n",
      "Po       5\n",
      "Ex       3\n",
      "Name: count, dtype: int64\n",
      "\n",
      "Null values count: 159\n",
      "\n",
      "Column: GarageCond\n",
      "Unique values:\n",
      "GarageCond\n",
      "TA    2654\n",
      "Fa      74\n",
      "Gd      15\n",
      "Po      14\n",
      "Ex       3\n",
      "Name: count, dtype: int64\n",
      "\n",
      "Null values count: 159\n",
      "\n",
      "Column: PoolQC\n",
      "Unique values:\n",
      "PoolQC\n",
      "Ex    4\n",
      "Gd    4\n",
      "Fa    2\n",
      "Name: count, dtype: int64\n",
      "\n",
      "Null values count: 2909\n",
      "\n",
      "Column: Fence\n",
      "Unique values:\n",
      "Fence\n",
      "MnPrv    329\n",
      "GdPrv    118\n",
      "GdWo     112\n",
      "MnWw      12\n",
      "Name: count, dtype: int64\n",
      "\n",
      "Null values count: 2348\n",
      "\n",
      "Column: MiscFeature\n",
      "Unique values:\n",
      "MiscFeature\n",
      "Shed    95\n",
      "Gar2     5\n",
      "Othr     4\n",
      "TenC     1\n",
      "Name: count, dtype: int64\n",
      "\n",
      "Null values count: 2814\n",
      "\n",
      "Column: SaleType\n",
      "Unique values:\n",
      "SaleType\n",
      "WD       2525\n",
      "New       239\n",
      "COD        87\n",
      "ConLD      26\n",
      "CWD        12\n",
      "ConLI       9\n",
      "ConLw       8\n",
      "Oth         7\n",
      "Con         5\n",
      "Name: count, dtype: int64\n",
      "\n",
      "Null values count: 1\n",
      "\n"
     ]
    }
   ],
   "source": [
    "for column in null_columns:\n",
    "    print(f\"Column: {column}\")\n",
    "    print(f\"Unique values:\\n{full_data[column].value_counts()}\\n\")\n",
    "    print(f\"Null values count: {full_data[column].isnull().sum()}\\n\")"
   ]
  },
  {
   "cell_type": "code",
   "execution_count": 25,
   "id": "96bbbe92",
   "metadata": {
    "execution": {
     "iopub.execute_input": "2024-02-19T11:22:06.184522Z",
     "iopub.status.busy": "2024-02-19T11:22:06.184050Z",
     "iopub.status.idle": "2024-02-19T11:22:06.224464Z",
     "shell.execute_reply": "2024-02-19T11:22:06.223609Z"
    },
    "papermill": {
     "duration": 0.06203,
     "end_time": "2024-02-19T11:22:06.227249",
     "exception": false,
     "start_time": "2024-02-19T11:22:06.165219",
     "status": "completed"
    },
    "tags": []
   },
   "outputs": [
    {
     "name": "stdout",
     "output_type": "stream",
     "text": [
      "Value counts for column MSZoning:\n",
      "MSZoning\n",
      "RL         2265\n",
      "RM          460\n",
      "FV          139\n",
      "RH           26\n",
      "C (all)      25\n",
      "Name: count, dtype: int64\n",
      "\n",
      "Value counts for column Alley:\n",
      "Alley\n",
      "Grvl    120\n",
      "Pave     78\n",
      "Name: count, dtype: int64\n",
      "\n",
      "Value counts for column Utilities:\n",
      "Utilities\n",
      "AllPub    2916\n",
      "NoSeWa       1\n",
      "Name: count, dtype: int64\n",
      "\n",
      "Value counts for column Exterior1st:\n",
      "Exterior1st\n",
      "VinylSd    1025\n",
      "MetalSd     450\n",
      "HdBoard     442\n",
      "Wd Sdng     411\n",
      "Plywood     221\n",
      "CemntBd     126\n",
      "BrkFace      87\n",
      "WdShing      56\n",
      "AsbShng      44\n",
      "Stucco       43\n",
      "BrkComm       6\n",
      "AsphShn       2\n",
      "Stone         2\n",
      "CBlock        2\n",
      "ImStucc       1\n",
      "Name: count, dtype: int64\n",
      "\n",
      "Value counts for column Exterior2nd:\n",
      "Exterior2nd\n",
      "VinylSd    1014\n",
      "MetalSd     447\n",
      "HdBoard     406\n",
      "Wd Sdng     391\n",
      "Plywood     270\n",
      "CmentBd     126\n",
      "Wd Shng      81\n",
      "BrkFace      47\n",
      "Stucco       47\n",
      "AsbShng      38\n",
      "Brk Cmn      22\n",
      "ImStucc      15\n",
      "Stone         6\n",
      "AsphShn       4\n",
      "CBlock        3\n",
      "Other         1\n",
      "Name: count, dtype: int64\n",
      "\n",
      "Value counts for column MasVnrType:\n",
      "MasVnrType\n",
      "BrkFace    879\n",
      "Stone      249\n",
      "BrkCmn      25\n",
      "Name: count, dtype: int64\n",
      "\n",
      "Value counts for column BsmtQual:\n",
      "BsmtQual\n",
      "TA    1283\n",
      "Gd    1209\n",
      "Ex     258\n",
      "Fa      88\n",
      "Name: count, dtype: int64\n",
      "\n",
      "Value counts for column BsmtCond:\n",
      "BsmtCond\n",
      "TA    2606\n",
      "Gd     122\n",
      "Fa     104\n",
      "Po       5\n",
      "Name: count, dtype: int64\n",
      "\n",
      "Value counts for column BsmtExposure:\n",
      "BsmtExposure\n",
      "No    1904\n",
      "Av     418\n",
      "Gd     276\n",
      "Mn     239\n",
      "Name: count, dtype: int64\n",
      "\n",
      "Value counts for column BsmtFinType1:\n",
      "BsmtFinType1\n",
      "Unf    851\n",
      "GLQ    849\n",
      "ALQ    429\n",
      "Rec    288\n",
      "BLQ    269\n",
      "LwQ    154\n",
      "Name: count, dtype: int64\n",
      "\n",
      "Value counts for column BsmtFinType2:\n",
      "BsmtFinType2\n",
      "Unf    2493\n",
      "Rec     105\n",
      "LwQ      87\n",
      "BLQ      68\n",
      "ALQ      52\n",
      "GLQ      34\n",
      "Name: count, dtype: int64\n",
      "\n",
      "Value counts for column Electrical:\n",
      "Electrical\n",
      "SBrkr    2671\n",
      "FuseA     188\n",
      "FuseF      50\n",
      "FuseP       8\n",
      "Mix         1\n",
      "Name: count, dtype: int64\n",
      "\n",
      "Value counts for column KitchenQual:\n",
      "KitchenQual\n",
      "TA    1492\n",
      "Gd    1151\n",
      "Ex     205\n",
      "Fa      70\n",
      "Name: count, dtype: int64\n",
      "\n",
      "Value counts for column Functional:\n",
      "Functional\n",
      "Typ     2717\n",
      "Min2      70\n",
      "Min1      65\n",
      "Mod       35\n",
      "Maj1      19\n",
      "Maj2       9\n",
      "Sev        2\n",
      "Name: count, dtype: int64\n",
      "\n",
      "Value counts for column FireplaceQu:\n",
      "FireplaceQu\n",
      "Gd    744\n",
      "TA    592\n",
      "Fa     74\n",
      "Po     46\n",
      "Ex     43\n",
      "Name: count, dtype: int64\n",
      "\n",
      "Value counts for column GarageType:\n",
      "GarageType\n",
      "Attchd     1723\n",
      "Detchd      779\n",
      "BuiltIn     186\n",
      "Basment      36\n",
      "2Types       23\n",
      "CarPort      15\n",
      "Name: count, dtype: int64\n",
      "\n",
      "Value counts for column GarageFinish:\n",
      "GarageFinish\n",
      "Unf    1230\n",
      "RFn     811\n",
      "Fin     719\n",
      "Name: count, dtype: int64\n",
      "\n",
      "Value counts for column GarageQual:\n",
      "GarageQual\n",
      "TA    2604\n",
      "Fa     124\n",
      "Gd      24\n",
      "Po       5\n",
      "Ex       3\n",
      "Name: count, dtype: int64\n",
      "\n",
      "Value counts for column GarageCond:\n",
      "GarageCond\n",
      "TA    2654\n",
      "Fa      74\n",
      "Gd      15\n",
      "Po      14\n",
      "Ex       3\n",
      "Name: count, dtype: int64\n",
      "\n",
      "Value counts for column PoolQC:\n",
      "PoolQC\n",
      "Ex    4\n",
      "Gd    4\n",
      "Fa    2\n",
      "Name: count, dtype: int64\n",
      "\n",
      "Value counts for column Fence:\n",
      "Fence\n",
      "MnPrv    329\n",
      "GdPrv    118\n",
      "GdWo     112\n",
      "MnWw      12\n",
      "Name: count, dtype: int64\n",
      "\n",
      "Value counts for column MiscFeature:\n",
      "MiscFeature\n",
      "Shed    95\n",
      "Gar2     5\n",
      "Othr     4\n",
      "TenC     1\n",
      "Name: count, dtype: int64\n",
      "\n",
      "Value counts for column SaleType:\n",
      "SaleType\n",
      "WD       2525\n",
      "New       239\n",
      "COD        87\n",
      "ConLD      26\n",
      "CWD        12\n",
      "ConLI       9\n",
      "ConLw       8\n",
      "Oth         7\n",
      "Con         5\n",
      "Name: count, dtype: int64\n",
      "\n"
     ]
    }
   ],
   "source": [
    "for column in null_columns:\n",
    "    print(f\"Value counts for column {column}:\\n{full_data[column].value_counts()}\\n\")"
   ]
  },
  {
   "cell_type": "code",
   "execution_count": 26,
   "id": "567d9433",
   "metadata": {
    "execution": {
     "iopub.execute_input": "2024-02-19T11:22:06.361200Z",
     "iopub.status.busy": "2024-02-19T11:22:06.360327Z",
     "iopub.status.idle": "2024-02-19T11:22:06.457912Z",
     "shell.execute_reply": "2024-02-19T11:22:06.456422Z"
    },
    "papermill": {
     "duration": 0.120912,
     "end_time": "2024-02-19T11:22:06.461602",
     "exception": false,
     "start_time": "2024-02-19T11:22:06.340690",
     "status": "completed"
    },
    "tags": []
   },
   "outputs": [
    {
     "name": "stderr",
     "output_type": "stream",
     "text": [
      "/tmp/ipykernel_18/1526273348.py:4: FutureWarning: A value is trying to be set on a copy of a DataFrame or Series through chained assignment using an inplace method.\n",
      "The behavior will change in pandas 3.0. This inplace method will never work because the intermediate object on which we are setting values always behaves as a copy.\n",
      "\n",
      "For example, when doing 'df[col].method(value, inplace=True)', try using 'df.method({col: value}, inplace=True)' or df[col] = df[col].method(value) instead, to perform the operation inplace on the original object.\n",
      "\n",
      "\n",
      "  full_data[column].fillna(mode_value, inplace=True)\n",
      "/tmp/ipykernel_18/1526273348.py:4: FutureWarning: A value is trying to be set on a copy of a DataFrame or Series through chained assignment using an inplace method.\n",
      "The behavior will change in pandas 3.0. This inplace method will never work because the intermediate object on which we are setting values always behaves as a copy.\n",
      "\n",
      "For example, when doing 'df[col].method(value, inplace=True)', try using 'df.method({col: value}, inplace=True)' or df[col] = df[col].method(value) instead, to perform the operation inplace on the original object.\n",
      "\n",
      "\n",
      "  full_data[column].fillna(mode_value, inplace=True)\n",
      "/tmp/ipykernel_18/1526273348.py:4: FutureWarning: A value is trying to be set on a copy of a DataFrame or Series through chained assignment using an inplace method.\n",
      "The behavior will change in pandas 3.0. This inplace method will never work because the intermediate object on which we are setting values always behaves as a copy.\n",
      "\n",
      "For example, when doing 'df[col].method(value, inplace=True)', try using 'df.method({col: value}, inplace=True)' or df[col] = df[col].method(value) instead, to perform the operation inplace on the original object.\n",
      "\n",
      "\n",
      "  full_data[column].fillna(mode_value, inplace=True)\n",
      "/tmp/ipykernel_18/1526273348.py:4: FutureWarning: A value is trying to be set on a copy of a DataFrame or Series through chained assignment using an inplace method.\n",
      "The behavior will change in pandas 3.0. This inplace method will never work because the intermediate object on which we are setting values always behaves as a copy.\n",
      "\n",
      "For example, when doing 'df[col].method(value, inplace=True)', try using 'df.method({col: value}, inplace=True)' or df[col] = df[col].method(value) instead, to perform the operation inplace on the original object.\n",
      "\n",
      "\n",
      "  full_data[column].fillna(mode_value, inplace=True)\n",
      "/tmp/ipykernel_18/1526273348.py:4: FutureWarning: A value is trying to be set on a copy of a DataFrame or Series through chained assignment using an inplace method.\n",
      "The behavior will change in pandas 3.0. This inplace method will never work because the intermediate object on which we are setting values always behaves as a copy.\n",
      "\n",
      "For example, when doing 'df[col].method(value, inplace=True)', try using 'df.method({col: value}, inplace=True)' or df[col] = df[col].method(value) instead, to perform the operation inplace on the original object.\n",
      "\n",
      "\n",
      "  full_data[column].fillna(mode_value, inplace=True)\n",
      "/tmp/ipykernel_18/1526273348.py:4: FutureWarning: A value is trying to be set on a copy of a DataFrame or Series through chained assignment using an inplace method.\n",
      "The behavior will change in pandas 3.0. This inplace method will never work because the intermediate object on which we are setting values always behaves as a copy.\n",
      "\n",
      "For example, when doing 'df[col].method(value, inplace=True)', try using 'df.method({col: value}, inplace=True)' or df[col] = df[col].method(value) instead, to perform the operation inplace on the original object.\n",
      "\n",
      "\n",
      "  full_data[column].fillna(mode_value, inplace=True)\n",
      "/tmp/ipykernel_18/1526273348.py:4: FutureWarning: A value is trying to be set on a copy of a DataFrame or Series through chained assignment using an inplace method.\n",
      "The behavior will change in pandas 3.0. This inplace method will never work because the intermediate object on which we are setting values always behaves as a copy.\n",
      "\n",
      "For example, when doing 'df[col].method(value, inplace=True)', try using 'df.method({col: value}, inplace=True)' or df[col] = df[col].method(value) instead, to perform the operation inplace on the original object.\n",
      "\n",
      "\n",
      "  full_data[column].fillna(mode_value, inplace=True)\n",
      "/tmp/ipykernel_18/1526273348.py:4: FutureWarning: A value is trying to be set on a copy of a DataFrame or Series through chained assignment using an inplace method.\n",
      "The behavior will change in pandas 3.0. This inplace method will never work because the intermediate object on which we are setting values always behaves as a copy.\n",
      "\n",
      "For example, when doing 'df[col].method(value, inplace=True)', try using 'df.method({col: value}, inplace=True)' or df[col] = df[col].method(value) instead, to perform the operation inplace on the original object.\n",
      "\n",
      "\n",
      "  full_data[column].fillna(mode_value, inplace=True)\n",
      "/tmp/ipykernel_18/1526273348.py:4: FutureWarning: A value is trying to be set on a copy of a DataFrame or Series through chained assignment using an inplace method.\n",
      "The behavior will change in pandas 3.0. This inplace method will never work because the intermediate object on which we are setting values always behaves as a copy.\n",
      "\n",
      "For example, when doing 'df[col].method(value, inplace=True)', try using 'df.method({col: value}, inplace=True)' or df[col] = df[col].method(value) instead, to perform the operation inplace on the original object.\n",
      "\n",
      "\n",
      "  full_data[column].fillna(mode_value, inplace=True)\n",
      "/tmp/ipykernel_18/1526273348.py:4: FutureWarning: A value is trying to be set on a copy of a DataFrame or Series through chained assignment using an inplace method.\n",
      "The behavior will change in pandas 3.0. This inplace method will never work because the intermediate object on which we are setting values always behaves as a copy.\n",
      "\n",
      "For example, when doing 'df[col].method(value, inplace=True)', try using 'df.method({col: value}, inplace=True)' or df[col] = df[col].method(value) instead, to perform the operation inplace on the original object.\n",
      "\n",
      "\n",
      "  full_data[column].fillna(mode_value, inplace=True)\n",
      "/tmp/ipykernel_18/1526273348.py:4: FutureWarning: A value is trying to be set on a copy of a DataFrame or Series through chained assignment using an inplace method.\n",
      "The behavior will change in pandas 3.0. This inplace method will never work because the intermediate object on which we are setting values always behaves as a copy.\n",
      "\n",
      "For example, when doing 'df[col].method(value, inplace=True)', try using 'df.method({col: value}, inplace=True)' or df[col] = df[col].method(value) instead, to perform the operation inplace on the original object.\n",
      "\n",
      "\n",
      "  full_data[column].fillna(mode_value, inplace=True)\n",
      "/tmp/ipykernel_18/1526273348.py:4: FutureWarning: A value is trying to be set on a copy of a DataFrame or Series through chained assignment using an inplace method.\n",
      "The behavior will change in pandas 3.0. This inplace method will never work because the intermediate object on which we are setting values always behaves as a copy.\n",
      "\n",
      "For example, when doing 'df[col].method(value, inplace=True)', try using 'df.method({col: value}, inplace=True)' or df[col] = df[col].method(value) instead, to perform the operation inplace on the original object.\n",
      "\n",
      "\n",
      "  full_data[column].fillna(mode_value, inplace=True)\n",
      "/tmp/ipykernel_18/1526273348.py:4: FutureWarning: A value is trying to be set on a copy of a DataFrame or Series through chained assignment using an inplace method.\n",
      "The behavior will change in pandas 3.0. This inplace method will never work because the intermediate object on which we are setting values always behaves as a copy.\n",
      "\n",
      "For example, when doing 'df[col].method(value, inplace=True)', try using 'df.method({col: value}, inplace=True)' or df[col] = df[col].method(value) instead, to perform the operation inplace on the original object.\n",
      "\n",
      "\n",
      "  full_data[column].fillna(mode_value, inplace=True)\n",
      "/tmp/ipykernel_18/1526273348.py:4: FutureWarning: A value is trying to be set on a copy of a DataFrame or Series through chained assignment using an inplace method.\n",
      "The behavior will change in pandas 3.0. This inplace method will never work because the intermediate object on which we are setting values always behaves as a copy.\n",
      "\n",
      "For example, when doing 'df[col].method(value, inplace=True)', try using 'df.method({col: value}, inplace=True)' or df[col] = df[col].method(value) instead, to perform the operation inplace on the original object.\n",
      "\n",
      "\n",
      "  full_data[column].fillna(mode_value, inplace=True)\n",
      "/tmp/ipykernel_18/1526273348.py:4: FutureWarning: A value is trying to be set on a copy of a DataFrame or Series through chained assignment using an inplace method.\n",
      "The behavior will change in pandas 3.0. This inplace method will never work because the intermediate object on which we are setting values always behaves as a copy.\n",
      "\n",
      "For example, when doing 'df[col].method(value, inplace=True)', try using 'df.method({col: value}, inplace=True)' or df[col] = df[col].method(value) instead, to perform the operation inplace on the original object.\n",
      "\n",
      "\n",
      "  full_data[column].fillna(mode_value, inplace=True)\n",
      "/tmp/ipykernel_18/1526273348.py:4: FutureWarning: A value is trying to be set on a copy of a DataFrame or Series through chained assignment using an inplace method.\n",
      "The behavior will change in pandas 3.0. This inplace method will never work because the intermediate object on which we are setting values always behaves as a copy.\n",
      "\n",
      "For example, when doing 'df[col].method(value, inplace=True)', try using 'df.method({col: value}, inplace=True)' or df[col] = df[col].method(value) instead, to perform the operation inplace on the original object.\n",
      "\n",
      "\n",
      "  full_data[column].fillna(mode_value, inplace=True)\n",
      "/tmp/ipykernel_18/1526273348.py:4: FutureWarning: A value is trying to be set on a copy of a DataFrame or Series through chained assignment using an inplace method.\n",
      "The behavior will change in pandas 3.0. This inplace method will never work because the intermediate object on which we are setting values always behaves as a copy.\n",
      "\n",
      "For example, when doing 'df[col].method(value, inplace=True)', try using 'df.method({col: value}, inplace=True)' or df[col] = df[col].method(value) instead, to perform the operation inplace on the original object.\n",
      "\n",
      "\n",
      "  full_data[column].fillna(mode_value, inplace=True)\n",
      "/tmp/ipykernel_18/1526273348.py:4: FutureWarning: A value is trying to be set on a copy of a DataFrame or Series through chained assignment using an inplace method.\n",
      "The behavior will change in pandas 3.0. This inplace method will never work because the intermediate object on which we are setting values always behaves as a copy.\n",
      "\n",
      "For example, when doing 'df[col].method(value, inplace=True)', try using 'df.method({col: value}, inplace=True)' or df[col] = df[col].method(value) instead, to perform the operation inplace on the original object.\n",
      "\n",
      "\n",
      "  full_data[column].fillna(mode_value, inplace=True)\n",
      "/tmp/ipykernel_18/1526273348.py:4: FutureWarning: A value is trying to be set on a copy of a DataFrame or Series through chained assignment using an inplace method.\n",
      "The behavior will change in pandas 3.0. This inplace method will never work because the intermediate object on which we are setting values always behaves as a copy.\n",
      "\n",
      "For example, when doing 'df[col].method(value, inplace=True)', try using 'df.method({col: value}, inplace=True)' or df[col] = df[col].method(value) instead, to perform the operation inplace on the original object.\n",
      "\n",
      "\n",
      "  full_data[column].fillna(mode_value, inplace=True)\n",
      "/tmp/ipykernel_18/1526273348.py:4: FutureWarning: A value is trying to be set on a copy of a DataFrame or Series through chained assignment using an inplace method.\n",
      "The behavior will change in pandas 3.0. This inplace method will never work because the intermediate object on which we are setting values always behaves as a copy.\n",
      "\n",
      "For example, when doing 'df[col].method(value, inplace=True)', try using 'df.method({col: value}, inplace=True)' or df[col] = df[col].method(value) instead, to perform the operation inplace on the original object.\n",
      "\n",
      "\n",
      "  full_data[column].fillna(mode_value, inplace=True)\n",
      "/tmp/ipykernel_18/1526273348.py:4: FutureWarning: A value is trying to be set on a copy of a DataFrame or Series through chained assignment using an inplace method.\n",
      "The behavior will change in pandas 3.0. This inplace method will never work because the intermediate object on which we are setting values always behaves as a copy.\n",
      "\n",
      "For example, when doing 'df[col].method(value, inplace=True)', try using 'df.method({col: value}, inplace=True)' or df[col] = df[col].method(value) instead, to perform the operation inplace on the original object.\n",
      "\n",
      "\n",
      "  full_data[column].fillna(mode_value, inplace=True)\n",
      "/tmp/ipykernel_18/1526273348.py:4: FutureWarning: A value is trying to be set on a copy of a DataFrame or Series through chained assignment using an inplace method.\n",
      "The behavior will change in pandas 3.0. This inplace method will never work because the intermediate object on which we are setting values always behaves as a copy.\n",
      "\n",
      "For example, when doing 'df[col].method(value, inplace=True)', try using 'df.method({col: value}, inplace=True)' or df[col] = df[col].method(value) instead, to perform the operation inplace on the original object.\n",
      "\n",
      "\n",
      "  full_data[column].fillna(mode_value, inplace=True)\n",
      "/tmp/ipykernel_18/1526273348.py:4: FutureWarning: A value is trying to be set on a copy of a DataFrame or Series through chained assignment using an inplace method.\n",
      "The behavior will change in pandas 3.0. This inplace method will never work because the intermediate object on which we are setting values always behaves as a copy.\n",
      "\n",
      "For example, when doing 'df[col].method(value, inplace=True)', try using 'df.method({col: value}, inplace=True)' or df[col] = df[col].method(value) instead, to perform the operation inplace on the original object.\n",
      "\n",
      "\n",
      "  full_data[column].fillna(mode_value, inplace=True)\n",
      "/tmp/ipykernel_18/1526273348.py:4: FutureWarning: A value is trying to be set on a copy of a DataFrame or Series through chained assignment using an inplace method.\n",
      "The behavior will change in pandas 3.0. This inplace method will never work because the intermediate object on which we are setting values always behaves as a copy.\n",
      "\n",
      "For example, when doing 'df[col].method(value, inplace=True)', try using 'df.method({col: value}, inplace=True)' or df[col] = df[col].method(value) instead, to perform the operation inplace on the original object.\n",
      "\n",
      "\n",
      "  full_data[column].fillna(mode_value, inplace=True)\n",
      "/tmp/ipykernel_18/1526273348.py:4: FutureWarning: A value is trying to be set on a copy of a DataFrame or Series through chained assignment using an inplace method.\n",
      "The behavior will change in pandas 3.0. This inplace method will never work because the intermediate object on which we are setting values always behaves as a copy.\n",
      "\n",
      "For example, when doing 'df[col].method(value, inplace=True)', try using 'df.method({col: value}, inplace=True)' or df[col] = df[col].method(value) instead, to perform the operation inplace on the original object.\n",
      "\n",
      "\n",
      "  full_data[column].fillna(mode_value, inplace=True)\n",
      "/tmp/ipykernel_18/1526273348.py:4: FutureWarning: A value is trying to be set on a copy of a DataFrame or Series through chained assignment using an inplace method.\n",
      "The behavior will change in pandas 3.0. This inplace method will never work because the intermediate object on which we are setting values always behaves as a copy.\n",
      "\n",
      "For example, when doing 'df[col].method(value, inplace=True)', try using 'df.method({col: value}, inplace=True)' or df[col] = df[col].method(value) instead, to perform the operation inplace on the original object.\n",
      "\n",
      "\n",
      "  full_data[column].fillna(mode_value, inplace=True)\n"
     ]
    }
   ],
   "source": [
    "for column in full_data.columns:\n",
    "    if(full_data[column].isnull().sum()<160):\n",
    "        mode_value = full_data[column].mode()[0]  \n",
    "        full_data[column].fillna(mode_value, inplace=True) \n",
    "        \n",
    "    "
   ]
  },
  {
   "cell_type": "code",
   "execution_count": 27,
   "id": "0055e6ad",
   "metadata": {
    "execution": {
     "iopub.execute_input": "2024-02-19T11:22:06.501373Z",
     "iopub.status.busy": "2024-02-19T11:22:06.500603Z",
     "iopub.status.idle": "2024-02-19T11:22:06.527665Z",
     "shell.execute_reply": "2024-02-19T11:22:06.526007Z"
    },
    "papermill": {
     "duration": 0.051905,
     "end_time": "2024-02-19T11:22:06.531758",
     "exception": false,
     "start_time": "2024-02-19T11:22:06.479853",
     "status": "completed"
    },
    "tags": []
   },
   "outputs": [
    {
     "name": "stdout",
     "output_type": "stream",
     "text": [
      "Index(['Alley', 'MasVnrType', 'FireplaceQu', 'PoolQC', 'Fence', 'MiscFeature'], dtype='object')\n"
     ]
    }
   ],
   "source": [
    "null_columns = full_data.columns[full_data.isnull().any()]\n",
    "print(null_columns)"
   ]
  },
  {
   "cell_type": "code",
   "execution_count": 28,
   "id": "ce26ab89",
   "metadata": {
    "execution": {
     "iopub.execute_input": "2024-02-19T11:22:06.573582Z",
     "iopub.status.busy": "2024-02-19T11:22:06.573159Z",
     "iopub.status.idle": "2024-02-19T11:22:06.586420Z",
     "shell.execute_reply": "2024-02-19T11:22:06.584962Z"
    },
    "papermill": {
     "duration": 0.038806,
     "end_time": "2024-02-19T11:22:06.589966",
     "exception": false,
     "start_time": "2024-02-19T11:22:06.551160",
     "status": "completed"
    },
    "tags": []
   },
   "outputs": [
    {
     "name": "stdout",
     "output_type": "stream",
     "text": [
      " Alley          2721\n",
      "MasVnrType     1766\n",
      "FireplaceQu    1420\n",
      "PoolQC         2909\n",
      "Fence          2348\n",
      "MiscFeature    2814\n",
      "dtype: int64, Alley          object\n",
      "MasVnrType     object\n",
      "FireplaceQu    object\n",
      "PoolQC         object\n",
      "Fence          object\n",
      "MiscFeature    object\n",
      "dtype: object \n"
     ]
    }
   ],
   "source": [
    "null_counts = full_data[null_columns].isnull().sum()\n",
    "print(f\" {null_counts}, {full_data[null_columns].dtypes} \")"
   ]
  },
  {
   "cell_type": "code",
   "execution_count": 29,
   "id": "4468faa0",
   "metadata": {
    "execution": {
     "iopub.execute_input": "2024-02-19T11:22:06.629704Z",
     "iopub.status.busy": "2024-02-19T11:22:06.629243Z",
     "iopub.status.idle": "2024-02-19T11:22:06.635474Z",
     "shell.execute_reply": "2024-02-19T11:22:06.633888Z"
    },
    "papermill": {
     "duration": 0.029553,
     "end_time": "2024-02-19T11:22:06.638411",
     "exception": false,
     "start_time": "2024-02-19T11:22:06.608858",
     "status": "completed"
    },
    "tags": []
   },
   "outputs": [],
   "source": [
    "columns_to_drop = ['Alley', 'MasVnrType','FireplaceQu','PoolQC','Fence']"
   ]
  },
  {
   "cell_type": "code",
   "execution_count": 30,
   "id": "5d56162b",
   "metadata": {
    "execution": {
     "iopub.execute_input": "2024-02-19T11:22:06.680104Z",
     "iopub.status.busy": "2024-02-19T11:22:06.679653Z",
     "iopub.status.idle": "2024-02-19T11:22:06.691303Z",
     "shell.execute_reply": "2024-02-19T11:22:06.689934Z"
    },
    "papermill": {
     "duration": 0.035495,
     "end_time": "2024-02-19T11:22:06.694170",
     "exception": false,
     "start_time": "2024-02-19T11:22:06.658675",
     "status": "completed"
    },
    "tags": []
   },
   "outputs": [],
   "source": [
    "full_data.drop(columns_to_drop, axis = 1, inplace = True )"
   ]
  },
  {
   "cell_type": "code",
   "execution_count": 31,
   "id": "278acea6",
   "metadata": {
    "execution": {
     "iopub.execute_input": "2024-02-19T11:22:06.735671Z",
     "iopub.status.busy": "2024-02-19T11:22:06.735225Z",
     "iopub.status.idle": "2024-02-19T11:22:06.757464Z",
     "shell.execute_reply": "2024-02-19T11:22:06.755969Z"
    },
    "papermill": {
     "duration": 0.046137,
     "end_time": "2024-02-19T11:22:06.759783",
     "exception": false,
     "start_time": "2024-02-19T11:22:06.713646",
     "status": "completed"
    },
    "tags": []
   },
   "outputs": [
    {
     "name": "stdout",
     "output_type": "stream",
     "text": [
      "Index(['MiscFeature'], dtype='object')\n"
     ]
    }
   ],
   "source": [
    "null_columns = full_data.columns[full_data.isnull().any()]\n",
    "print(null_columns)"
   ]
  },
  {
   "cell_type": "code",
   "execution_count": 32,
   "id": "b1148320",
   "metadata": {
    "execution": {
     "iopub.execute_input": "2024-02-19T11:22:06.799952Z",
     "iopub.status.busy": "2024-02-19T11:22:06.799517Z",
     "iopub.status.idle": "2024-02-19T11:22:06.836219Z",
     "shell.execute_reply": "2024-02-19T11:22:06.834947Z"
    },
    "papermill": {
     "duration": 0.060121,
     "end_time": "2024-02-19T11:22:06.838816",
     "exception": false,
     "start_time": "2024-02-19T11:22:06.778695",
     "status": "completed"
    },
    "tags": []
   },
   "outputs": [
    {
     "data": {
      "text/html": [
       "<div>\n",
       "<style scoped>\n",
       "    .dataframe tbody tr th:only-of-type {\n",
       "        vertical-align: middle;\n",
       "    }\n",
       "\n",
       "    .dataframe tbody tr th {\n",
       "        vertical-align: top;\n",
       "    }\n",
       "\n",
       "    .dataframe thead th {\n",
       "        text-align: right;\n",
       "    }\n",
       "</style>\n",
       "<table border=\"1\" class=\"dataframe\">\n",
       "  <thead>\n",
       "    <tr style=\"text-align: right;\">\n",
       "      <th></th>\n",
       "      <th>Id</th>\n",
       "      <th>MSSubClass</th>\n",
       "      <th>MSZoning</th>\n",
       "      <th>LotFrontage</th>\n",
       "      <th>LotArea</th>\n",
       "      <th>Street</th>\n",
       "      <th>LotShape</th>\n",
       "      <th>LandContour</th>\n",
       "      <th>Utilities</th>\n",
       "      <th>LotConfig</th>\n",
       "      <th>...</th>\n",
       "      <th>OpenPorchSF</th>\n",
       "      <th>EnclosedPorch</th>\n",
       "      <th>3SsnPorch</th>\n",
       "      <th>ScreenPorch</th>\n",
       "      <th>PoolArea</th>\n",
       "      <th>MiscVal</th>\n",
       "      <th>MoSold</th>\n",
       "      <th>YrSold</th>\n",
       "      <th>SaleType</th>\n",
       "      <th>SaleCondition</th>\n",
       "    </tr>\n",
       "  </thead>\n",
       "  <tbody>\n",
       "    <tr>\n",
       "      <th>0</th>\n",
       "      <td>1</td>\n",
       "      <td>60</td>\n",
       "      <td>RL</td>\n",
       "      <td>65.0</td>\n",
       "      <td>8450</td>\n",
       "      <td>Pave</td>\n",
       "      <td>Reg</td>\n",
       "      <td>Lvl</td>\n",
       "      <td>AllPub</td>\n",
       "      <td>Inside</td>\n",
       "      <td>...</td>\n",
       "      <td>61</td>\n",
       "      <td>0</td>\n",
       "      <td>0</td>\n",
       "      <td>0</td>\n",
       "      <td>0</td>\n",
       "      <td>0</td>\n",
       "      <td>2</td>\n",
       "      <td>2008</td>\n",
       "      <td>WD</td>\n",
       "      <td>Normal</td>\n",
       "    </tr>\n",
       "    <tr>\n",
       "      <th>1</th>\n",
       "      <td>2</td>\n",
       "      <td>20</td>\n",
       "      <td>RL</td>\n",
       "      <td>80.0</td>\n",
       "      <td>9600</td>\n",
       "      <td>Pave</td>\n",
       "      <td>Reg</td>\n",
       "      <td>Lvl</td>\n",
       "      <td>AllPub</td>\n",
       "      <td>FR2</td>\n",
       "      <td>...</td>\n",
       "      <td>0</td>\n",
       "      <td>0</td>\n",
       "      <td>0</td>\n",
       "      <td>0</td>\n",
       "      <td>0</td>\n",
       "      <td>0</td>\n",
       "      <td>5</td>\n",
       "      <td>2007</td>\n",
       "      <td>WD</td>\n",
       "      <td>Normal</td>\n",
       "    </tr>\n",
       "    <tr>\n",
       "      <th>2</th>\n",
       "      <td>3</td>\n",
       "      <td>60</td>\n",
       "      <td>RL</td>\n",
       "      <td>68.0</td>\n",
       "      <td>11250</td>\n",
       "      <td>Pave</td>\n",
       "      <td>IR1</td>\n",
       "      <td>Lvl</td>\n",
       "      <td>AllPub</td>\n",
       "      <td>Inside</td>\n",
       "      <td>...</td>\n",
       "      <td>42</td>\n",
       "      <td>0</td>\n",
       "      <td>0</td>\n",
       "      <td>0</td>\n",
       "      <td>0</td>\n",
       "      <td>0</td>\n",
       "      <td>9</td>\n",
       "      <td>2008</td>\n",
       "      <td>WD</td>\n",
       "      <td>Normal</td>\n",
       "    </tr>\n",
       "    <tr>\n",
       "      <th>3</th>\n",
       "      <td>4</td>\n",
       "      <td>70</td>\n",
       "      <td>RL</td>\n",
       "      <td>60.0</td>\n",
       "      <td>9550</td>\n",
       "      <td>Pave</td>\n",
       "      <td>IR1</td>\n",
       "      <td>Lvl</td>\n",
       "      <td>AllPub</td>\n",
       "      <td>Corner</td>\n",
       "      <td>...</td>\n",
       "      <td>35</td>\n",
       "      <td>272</td>\n",
       "      <td>0</td>\n",
       "      <td>0</td>\n",
       "      <td>0</td>\n",
       "      <td>0</td>\n",
       "      <td>2</td>\n",
       "      <td>2006</td>\n",
       "      <td>WD</td>\n",
       "      <td>Abnorml</td>\n",
       "    </tr>\n",
       "    <tr>\n",
       "      <th>4</th>\n",
       "      <td>5</td>\n",
       "      <td>60</td>\n",
       "      <td>RL</td>\n",
       "      <td>84.0</td>\n",
       "      <td>14260</td>\n",
       "      <td>Pave</td>\n",
       "      <td>IR1</td>\n",
       "      <td>Lvl</td>\n",
       "      <td>AllPub</td>\n",
       "      <td>FR2</td>\n",
       "      <td>...</td>\n",
       "      <td>84</td>\n",
       "      <td>0</td>\n",
       "      <td>0</td>\n",
       "      <td>0</td>\n",
       "      <td>0</td>\n",
       "      <td>0</td>\n",
       "      <td>12</td>\n",
       "      <td>2008</td>\n",
       "      <td>WD</td>\n",
       "      <td>Normal</td>\n",
       "    </tr>\n",
       "    <tr>\n",
       "      <th>...</th>\n",
       "      <td>...</td>\n",
       "      <td>...</td>\n",
       "      <td>...</td>\n",
       "      <td>...</td>\n",
       "      <td>...</td>\n",
       "      <td>...</td>\n",
       "      <td>...</td>\n",
       "      <td>...</td>\n",
       "      <td>...</td>\n",
       "      <td>...</td>\n",
       "      <td>...</td>\n",
       "      <td>...</td>\n",
       "      <td>...</td>\n",
       "      <td>...</td>\n",
       "      <td>...</td>\n",
       "      <td>...</td>\n",
       "      <td>...</td>\n",
       "      <td>...</td>\n",
       "      <td>...</td>\n",
       "      <td>...</td>\n",
       "      <td>...</td>\n",
       "    </tr>\n",
       "    <tr>\n",
       "      <th>1454</th>\n",
       "      <td>2915</td>\n",
       "      <td>160</td>\n",
       "      <td>RM</td>\n",
       "      <td>21.0</td>\n",
       "      <td>1936</td>\n",
       "      <td>Pave</td>\n",
       "      <td>Reg</td>\n",
       "      <td>Lvl</td>\n",
       "      <td>AllPub</td>\n",
       "      <td>Inside</td>\n",
       "      <td>...</td>\n",
       "      <td>0</td>\n",
       "      <td>0</td>\n",
       "      <td>0</td>\n",
       "      <td>0</td>\n",
       "      <td>0</td>\n",
       "      <td>0</td>\n",
       "      <td>6</td>\n",
       "      <td>2006</td>\n",
       "      <td>WD</td>\n",
       "      <td>Normal</td>\n",
       "    </tr>\n",
       "    <tr>\n",
       "      <th>1455</th>\n",
       "      <td>2916</td>\n",
       "      <td>160</td>\n",
       "      <td>RM</td>\n",
       "      <td>21.0</td>\n",
       "      <td>1894</td>\n",
       "      <td>Pave</td>\n",
       "      <td>Reg</td>\n",
       "      <td>Lvl</td>\n",
       "      <td>AllPub</td>\n",
       "      <td>Inside</td>\n",
       "      <td>...</td>\n",
       "      <td>24</td>\n",
       "      <td>0</td>\n",
       "      <td>0</td>\n",
       "      <td>0</td>\n",
       "      <td>0</td>\n",
       "      <td>0</td>\n",
       "      <td>4</td>\n",
       "      <td>2006</td>\n",
       "      <td>WD</td>\n",
       "      <td>Abnorml</td>\n",
       "    </tr>\n",
       "    <tr>\n",
       "      <th>1456</th>\n",
       "      <td>2917</td>\n",
       "      <td>20</td>\n",
       "      <td>RL</td>\n",
       "      <td>160.0</td>\n",
       "      <td>20000</td>\n",
       "      <td>Pave</td>\n",
       "      <td>Reg</td>\n",
       "      <td>Lvl</td>\n",
       "      <td>AllPub</td>\n",
       "      <td>Inside</td>\n",
       "      <td>...</td>\n",
       "      <td>0</td>\n",
       "      <td>0</td>\n",
       "      <td>0</td>\n",
       "      <td>0</td>\n",
       "      <td>0</td>\n",
       "      <td>0</td>\n",
       "      <td>9</td>\n",
       "      <td>2006</td>\n",
       "      <td>WD</td>\n",
       "      <td>Abnorml</td>\n",
       "    </tr>\n",
       "    <tr>\n",
       "      <th>1457</th>\n",
       "      <td>2918</td>\n",
       "      <td>85</td>\n",
       "      <td>RL</td>\n",
       "      <td>62.0</td>\n",
       "      <td>10441</td>\n",
       "      <td>Pave</td>\n",
       "      <td>Reg</td>\n",
       "      <td>Lvl</td>\n",
       "      <td>AllPub</td>\n",
       "      <td>Inside</td>\n",
       "      <td>...</td>\n",
       "      <td>32</td>\n",
       "      <td>0</td>\n",
       "      <td>0</td>\n",
       "      <td>0</td>\n",
       "      <td>0</td>\n",
       "      <td>700</td>\n",
       "      <td>7</td>\n",
       "      <td>2006</td>\n",
       "      <td>WD</td>\n",
       "      <td>Normal</td>\n",
       "    </tr>\n",
       "    <tr>\n",
       "      <th>1458</th>\n",
       "      <td>2919</td>\n",
       "      <td>60</td>\n",
       "      <td>RL</td>\n",
       "      <td>74.0</td>\n",
       "      <td>9627</td>\n",
       "      <td>Pave</td>\n",
       "      <td>Reg</td>\n",
       "      <td>Lvl</td>\n",
       "      <td>AllPub</td>\n",
       "      <td>Inside</td>\n",
       "      <td>...</td>\n",
       "      <td>48</td>\n",
       "      <td>0</td>\n",
       "      <td>0</td>\n",
       "      <td>0</td>\n",
       "      <td>0</td>\n",
       "      <td>0</td>\n",
       "      <td>11</td>\n",
       "      <td>2006</td>\n",
       "      <td>WD</td>\n",
       "      <td>Normal</td>\n",
       "    </tr>\n",
       "  </tbody>\n",
       "</table>\n",
       "<p>2919 rows × 74 columns</p>\n",
       "</div>"
      ],
      "text/plain": [
       "        Id  MSSubClass MSZoning  LotFrontage  LotArea Street LotShape  \\\n",
       "0        1          60       RL         65.0     8450   Pave      Reg   \n",
       "1        2          20       RL         80.0     9600   Pave      Reg   \n",
       "2        3          60       RL         68.0    11250   Pave      IR1   \n",
       "3        4          70       RL         60.0     9550   Pave      IR1   \n",
       "4        5          60       RL         84.0    14260   Pave      IR1   \n",
       "...    ...         ...      ...          ...      ...    ...      ...   \n",
       "1454  2915         160       RM         21.0     1936   Pave      Reg   \n",
       "1455  2916         160       RM         21.0     1894   Pave      Reg   \n",
       "1456  2917          20       RL        160.0    20000   Pave      Reg   \n",
       "1457  2918          85       RL         62.0    10441   Pave      Reg   \n",
       "1458  2919          60       RL         74.0     9627   Pave      Reg   \n",
       "\n",
       "     LandContour Utilities LotConfig  ... OpenPorchSF EnclosedPorch 3SsnPorch  \\\n",
       "0            Lvl    AllPub    Inside  ...          61             0         0   \n",
       "1            Lvl    AllPub       FR2  ...           0             0         0   \n",
       "2            Lvl    AllPub    Inside  ...          42             0         0   \n",
       "3            Lvl    AllPub    Corner  ...          35           272         0   \n",
       "4            Lvl    AllPub       FR2  ...          84             0         0   \n",
       "...          ...       ...       ...  ...         ...           ...       ...   \n",
       "1454         Lvl    AllPub    Inside  ...           0             0         0   \n",
       "1455         Lvl    AllPub    Inside  ...          24             0         0   \n",
       "1456         Lvl    AllPub    Inside  ...           0             0         0   \n",
       "1457         Lvl    AllPub    Inside  ...          32             0         0   \n",
       "1458         Lvl    AllPub    Inside  ...          48             0         0   \n",
       "\n",
       "     ScreenPorch PoolArea MiscVal  MoSold  YrSold  SaleType  SaleCondition  \n",
       "0              0        0       0       2    2008        WD         Normal  \n",
       "1              0        0       0       5    2007        WD         Normal  \n",
       "2              0        0       0       9    2008        WD         Normal  \n",
       "3              0        0       0       2    2006        WD        Abnorml  \n",
       "4              0        0       0      12    2008        WD         Normal  \n",
       "...          ...      ...     ...     ...     ...       ...            ...  \n",
       "1454           0        0       0       6    2006        WD         Normal  \n",
       "1455           0        0       0       4    2006        WD        Abnorml  \n",
       "1456           0        0       0       9    2006        WD        Abnorml  \n",
       "1457           0        0     700       7    2006        WD         Normal  \n",
       "1458           0        0       0      11    2006        WD         Normal  \n",
       "\n",
       "[2919 rows x 74 columns]"
      ]
     },
     "execution_count": 32,
     "metadata": {},
     "output_type": "execute_result"
    }
   ],
   "source": [
    "full_data.drop('MiscFeature', axis =1)"
   ]
  },
  {
   "cell_type": "code",
   "execution_count": 33,
   "id": "bc640f4f",
   "metadata": {
    "execution": {
     "iopub.execute_input": "2024-02-19T11:22:06.880365Z",
     "iopub.status.busy": "2024-02-19T11:22:06.879907Z",
     "iopub.status.idle": "2024-02-19T11:22:06.938039Z",
     "shell.execute_reply": "2024-02-19T11:22:06.936387Z"
    },
    "papermill": {
     "duration": 0.082819,
     "end_time": "2024-02-19T11:22:06.941015",
     "exception": false,
     "start_time": "2024-02-19T11:22:06.858196",
     "status": "completed"
    },
    "tags": []
   },
   "outputs": [],
   "source": [
    "encoded_full_data = pd.get_dummies(full_data)\n"
   ]
  },
  {
   "cell_type": "code",
   "execution_count": 34,
   "id": "97c2b809",
   "metadata": {
    "execution": {
     "iopub.execute_input": "2024-02-19T11:22:06.982181Z",
     "iopub.status.busy": "2024-02-19T11:22:06.981728Z",
     "iopub.status.idle": "2024-02-19T11:22:06.989065Z",
     "shell.execute_reply": "2024-02-19T11:22:06.987782Z"
    },
    "papermill": {
     "duration": 0.031107,
     "end_time": "2024-02-19T11:22:06.991684",
     "exception": false,
     "start_time": "2024-02-19T11:22:06.960577",
     "status": "completed"
    },
    "tags": []
   },
   "outputs": [
    {
     "data": {
      "text/plain": [
       "(2919, 271)"
      ]
     },
     "execution_count": 34,
     "metadata": {},
     "output_type": "execute_result"
    }
   ],
   "source": [
    "encoded_full_data.shape"
   ]
  },
  {
   "cell_type": "code",
   "execution_count": 35,
   "id": "695e135d",
   "metadata": {
    "execution": {
     "iopub.execute_input": "2024-02-19T11:22:07.033483Z",
     "iopub.status.busy": "2024-02-19T11:22:07.033024Z",
     "iopub.status.idle": "2024-02-19T11:22:07.040463Z",
     "shell.execute_reply": "2024-02-19T11:22:07.039262Z"
    },
    "papermill": {
     "duration": 0.031449,
     "end_time": "2024-02-19T11:22:07.043108",
     "exception": false,
     "start_time": "2024-02-19T11:22:07.011659",
     "status": "completed"
    },
    "tags": []
   },
   "outputs": [
    {
     "data": {
      "text/plain": [
       "(1460, 81)"
      ]
     },
     "execution_count": 35,
     "metadata": {},
     "output_type": "execute_result"
    }
   ],
   "source": [
    "train.shape"
   ]
  },
  {
   "cell_type": "code",
   "execution_count": 36,
   "id": "66ad5a46",
   "metadata": {
    "execution": {
     "iopub.execute_input": "2024-02-19T11:22:07.087089Z",
     "iopub.status.busy": "2024-02-19T11:22:07.086490Z",
     "iopub.status.idle": "2024-02-19T11:22:07.094901Z",
     "shell.execute_reply": "2024-02-19T11:22:07.093476Z"
    },
    "papermill": {
     "duration": 0.033383,
     "end_time": "2024-02-19T11:22:07.097514",
     "exception": false,
     "start_time": "2024-02-19T11:22:07.064131",
     "status": "completed"
    },
    "tags": []
   },
   "outputs": [
    {
     "data": {
      "text/plain": [
       "(1459, 80)"
      ]
     },
     "execution_count": 36,
     "metadata": {},
     "output_type": "execute_result"
    }
   ],
   "source": [
    "test.shape"
   ]
  },
  {
   "cell_type": "code",
   "execution_count": 37,
   "id": "156575d9",
   "metadata": {
    "execution": {
     "iopub.execute_input": "2024-02-19T11:22:07.139384Z",
     "iopub.status.busy": "2024-02-19T11:22:07.138901Z",
     "iopub.status.idle": "2024-02-19T11:22:07.145153Z",
     "shell.execute_reply": "2024-02-19T11:22:07.143829Z"
    },
    "papermill": {
     "duration": 0.030471,
     "end_time": "2024-02-19T11:22:07.147709",
     "exception": false,
     "start_time": "2024-02-19T11:22:07.117238",
     "status": "completed"
    },
    "tags": []
   },
   "outputs": [],
   "source": [
    "x_train = encoded_full_data[:1460]"
   ]
  },
  {
   "cell_type": "code",
   "execution_count": 38,
   "id": "57564c15",
   "metadata": {
    "execution": {
     "iopub.execute_input": "2024-02-19T11:22:07.189419Z",
     "iopub.status.busy": "2024-02-19T11:22:07.189023Z",
     "iopub.status.idle": "2024-02-19T11:22:07.196873Z",
     "shell.execute_reply": "2024-02-19T11:22:07.195590Z"
    },
    "papermill": {
     "duration": 0.031573,
     "end_time": "2024-02-19T11:22:07.199436",
     "exception": false,
     "start_time": "2024-02-19T11:22:07.167863",
     "status": "completed"
    },
    "tags": []
   },
   "outputs": [
    {
     "data": {
      "text/plain": [
       "(1460, 271)"
      ]
     },
     "execution_count": 38,
     "metadata": {},
     "output_type": "execute_result"
    }
   ],
   "source": [
    "x_train.shape"
   ]
  },
  {
   "cell_type": "code",
   "execution_count": 39,
   "id": "82738eab",
   "metadata": {
    "execution": {
     "iopub.execute_input": "2024-02-19T11:22:07.240765Z",
     "iopub.status.busy": "2024-02-19T11:22:07.240337Z",
     "iopub.status.idle": "2024-02-19T11:22:07.246821Z",
     "shell.execute_reply": "2024-02-19T11:22:07.245570Z"
    },
    "papermill": {
     "duration": 0.03009,
     "end_time": "2024-02-19T11:22:07.249186",
     "exception": false,
     "start_time": "2024-02-19T11:22:07.219096",
     "status": "completed"
    },
    "tags": []
   },
   "outputs": [],
   "source": [
    "x_test = encoded_full_data[1460:]"
   ]
  },
  {
   "cell_type": "code",
   "execution_count": 40,
   "id": "f554f9ba",
   "metadata": {
    "execution": {
     "iopub.execute_input": "2024-02-19T11:22:07.292744Z",
     "iopub.status.busy": "2024-02-19T11:22:07.292226Z",
     "iopub.status.idle": "2024-02-19T11:22:07.299616Z",
     "shell.execute_reply": "2024-02-19T11:22:07.298657Z"
    },
    "papermill": {
     "duration": 0.031993,
     "end_time": "2024-02-19T11:22:07.302028",
     "exception": false,
     "start_time": "2024-02-19T11:22:07.270035",
     "status": "completed"
    },
    "tags": []
   },
   "outputs": [
    {
     "data": {
      "text/plain": [
       "(1459, 271)"
      ]
     },
     "execution_count": 40,
     "metadata": {},
     "output_type": "execute_result"
    }
   ],
   "source": [
    "x_test.shape"
   ]
  },
  {
   "cell_type": "code",
   "execution_count": 41,
   "id": "f253b29e",
   "metadata": {
    "execution": {
     "iopub.execute_input": "2024-02-19T11:22:07.345508Z",
     "iopub.status.busy": "2024-02-19T11:22:07.345010Z",
     "iopub.status.idle": "2024-02-19T11:22:07.352875Z",
     "shell.execute_reply": "2024-02-19T11:22:07.351297Z"
    },
    "papermill": {
     "duration": 0.033319,
     "end_time": "2024-02-19T11:22:07.355804",
     "exception": false,
     "start_time": "2024-02-19T11:22:07.322485",
     "status": "completed"
    },
    "tags": []
   },
   "outputs": [
    {
     "data": {
      "text/plain": [
       "(1460,)"
      ]
     },
     "execution_count": 41,
     "metadata": {},
     "output_type": "execute_result"
    }
   ],
   "source": [
    "y_train.shape"
   ]
  },
  {
   "cell_type": "code",
   "execution_count": 42,
   "id": "90274146",
   "metadata": {
    "execution": {
     "iopub.execute_input": "2024-02-19T11:22:07.398548Z",
     "iopub.status.busy": "2024-02-19T11:22:07.398119Z",
     "iopub.status.idle": "2024-02-19T11:22:11.607623Z",
     "shell.execute_reply": "2024-02-19T11:22:11.606643Z"
    },
    "papermill": {
     "duration": 4.233967,
     "end_time": "2024-02-19T11:22:11.610172",
     "exception": false,
     "start_time": "2024-02-19T11:22:07.376205",
     "status": "completed"
    },
    "tags": []
   },
   "outputs": [
    {
     "data": {
      "text/html": [
       "<style>#sk-container-id-1 {color: black;background-color: white;}#sk-container-id-1 pre{padding: 0;}#sk-container-id-1 div.sk-toggleable {background-color: white;}#sk-container-id-1 label.sk-toggleable__label {cursor: pointer;display: block;width: 100%;margin-bottom: 0;padding: 0.3em;box-sizing: border-box;text-align: center;}#sk-container-id-1 label.sk-toggleable__label-arrow:before {content: \"▸\";float: left;margin-right: 0.25em;color: #696969;}#sk-container-id-1 label.sk-toggleable__label-arrow:hover:before {color: black;}#sk-container-id-1 div.sk-estimator:hover label.sk-toggleable__label-arrow:before {color: black;}#sk-container-id-1 div.sk-toggleable__content {max-height: 0;max-width: 0;overflow: hidden;text-align: left;background-color: #f0f8ff;}#sk-container-id-1 div.sk-toggleable__content pre {margin: 0.2em;color: black;border-radius: 0.25em;background-color: #f0f8ff;}#sk-container-id-1 input.sk-toggleable__control:checked~div.sk-toggleable__content {max-height: 200px;max-width: 100%;overflow: auto;}#sk-container-id-1 input.sk-toggleable__control:checked~label.sk-toggleable__label-arrow:before {content: \"▾\";}#sk-container-id-1 div.sk-estimator input.sk-toggleable__control:checked~label.sk-toggleable__label {background-color: #d4ebff;}#sk-container-id-1 div.sk-label input.sk-toggleable__control:checked~label.sk-toggleable__label {background-color: #d4ebff;}#sk-container-id-1 input.sk-hidden--visually {border: 0;clip: rect(1px 1px 1px 1px);clip: rect(1px, 1px, 1px, 1px);height: 1px;margin: -1px;overflow: hidden;padding: 0;position: absolute;width: 1px;}#sk-container-id-1 div.sk-estimator {font-family: monospace;background-color: #f0f8ff;border: 1px dotted black;border-radius: 0.25em;box-sizing: border-box;margin-bottom: 0.5em;}#sk-container-id-1 div.sk-estimator:hover {background-color: #d4ebff;}#sk-container-id-1 div.sk-parallel-item::after {content: \"\";width: 100%;border-bottom: 1px solid gray;flex-grow: 1;}#sk-container-id-1 div.sk-label:hover label.sk-toggleable__label {background-color: #d4ebff;}#sk-container-id-1 div.sk-serial::before {content: \"\";position: absolute;border-left: 1px solid gray;box-sizing: border-box;top: 0;bottom: 0;left: 50%;z-index: 0;}#sk-container-id-1 div.sk-serial {display: flex;flex-direction: column;align-items: center;background-color: white;padding-right: 0.2em;padding-left: 0.2em;position: relative;}#sk-container-id-1 div.sk-item {position: relative;z-index: 1;}#sk-container-id-1 div.sk-parallel {display: flex;align-items: stretch;justify-content: center;background-color: white;position: relative;}#sk-container-id-1 div.sk-item::before, #sk-container-id-1 div.sk-parallel-item::before {content: \"\";position: absolute;border-left: 1px solid gray;box-sizing: border-box;top: 0;bottom: 0;left: 50%;z-index: -1;}#sk-container-id-1 div.sk-parallel-item {display: flex;flex-direction: column;z-index: 1;position: relative;background-color: white;}#sk-container-id-1 div.sk-parallel-item:first-child::after {align-self: flex-end;width: 50%;}#sk-container-id-1 div.sk-parallel-item:last-child::after {align-self: flex-start;width: 50%;}#sk-container-id-1 div.sk-parallel-item:only-child::after {width: 0;}#sk-container-id-1 div.sk-dashed-wrapped {border: 1px dashed gray;margin: 0 0.4em 0.5em 0.4em;box-sizing: border-box;padding-bottom: 0.4em;background-color: white;}#sk-container-id-1 div.sk-label label {font-family: monospace;font-weight: bold;display: inline-block;line-height: 1.2em;}#sk-container-id-1 div.sk-label-container {text-align: center;}#sk-container-id-1 div.sk-container {/* jupyter's `normalize.less` sets `[hidden] { display: none; }` but bootstrap.min.css set `[hidden] { display: none !important; }` so we also need the `!important` here to be able to override the default hidden behavior on the sphinx rendered scikit-learn.org. See: https://github.com/scikit-learn/scikit-learn/issues/21755 */display: inline-block !important;position: relative;}#sk-container-id-1 div.sk-text-repr-fallback {display: none;}</style><div id=\"sk-container-id-1\" class=\"sk-top-container\"><div class=\"sk-text-repr-fallback\"><pre>XGBRegressor(base_score=None, booster=None, callbacks=None,\n",
       "             colsample_bylevel=None, colsample_bynode=None,\n",
       "             colsample_bytree=None, device=None, early_stopping_rounds=None,\n",
       "             enable_categorical=False, eval_metric=None, feature_types=None,\n",
       "             gamma=None, grow_policy=None, importance_type=None,\n",
       "             interaction_constraints=None, learning_rate=None, max_bin=None,\n",
       "             max_cat_threshold=None, max_cat_to_onehot=None,\n",
       "             max_delta_step=None, max_depth=None, max_leaves=None,\n",
       "             min_child_weight=None, missing=nan, monotone_constraints=None,\n",
       "             multi_strategy=None, n_estimators=None, n_jobs=None,\n",
       "             num_parallel_tree=None, random_state=None, ...)</pre><b>In a Jupyter environment, please rerun this cell to show the HTML representation or trust the notebook. <br />On GitHub, the HTML representation is unable to render, please try loading this page with nbviewer.org.</b></div><div class=\"sk-container\" hidden><div class=\"sk-item\"><div class=\"sk-estimator sk-toggleable\"><input class=\"sk-toggleable__control sk-hidden--visually\" id=\"sk-estimator-id-1\" type=\"checkbox\" checked><label for=\"sk-estimator-id-1\" class=\"sk-toggleable__label sk-toggleable__label-arrow\">XGBRegressor</label><div class=\"sk-toggleable__content\"><pre>XGBRegressor(base_score=None, booster=None, callbacks=None,\n",
       "             colsample_bylevel=None, colsample_bynode=None,\n",
       "             colsample_bytree=None, device=None, early_stopping_rounds=None,\n",
       "             enable_categorical=False, eval_metric=None, feature_types=None,\n",
       "             gamma=None, grow_policy=None, importance_type=None,\n",
       "             interaction_constraints=None, learning_rate=None, max_bin=None,\n",
       "             max_cat_threshold=None, max_cat_to_onehot=None,\n",
       "             max_delta_step=None, max_depth=None, max_leaves=None,\n",
       "             min_child_weight=None, missing=nan, monotone_constraints=None,\n",
       "             multi_strategy=None, n_estimators=None, n_jobs=None,\n",
       "             num_parallel_tree=None, random_state=None, ...)</pre></div></div></div></div></div>"
      ],
      "text/plain": [
       "XGBRegressor(base_score=None, booster=None, callbacks=None,\n",
       "             colsample_bylevel=None, colsample_bynode=None,\n",
       "             colsample_bytree=None, device=None, early_stopping_rounds=None,\n",
       "             enable_categorical=False, eval_metric=None, feature_types=None,\n",
       "             gamma=None, grow_policy=None, importance_type=None,\n",
       "             interaction_constraints=None, learning_rate=None, max_bin=None,\n",
       "             max_cat_threshold=None, max_cat_to_onehot=None,\n",
       "             max_delta_step=None, max_depth=None, max_leaves=None,\n",
       "             min_child_weight=None, missing=nan, monotone_constraints=None,\n",
       "             multi_strategy=None, n_estimators=None, n_jobs=None,\n",
       "             num_parallel_tree=None, random_state=None, ...)"
      ]
     },
     "execution_count": 42,
     "metadata": {},
     "output_type": "execute_result"
    }
   ],
   "source": [
    "from sklearn.ensemble import RandomForestRegressor\n",
    "from xgboost import XGBRegressor\n",
    "# Instantiate the model\n",
    "model = XGBRegressor()\n",
    "\n",
    "# Fit the model to the training data\n",
    "model.fit(x_train, y_train)"
   ]
  },
  {
   "cell_type": "code",
   "execution_count": 43,
   "id": "1a767a18",
   "metadata": {
    "execution": {
     "iopub.execute_input": "2024-02-19T11:22:11.655346Z",
     "iopub.status.busy": "2024-02-19T11:22:11.654711Z",
     "iopub.status.idle": "2024-02-19T11:22:11.758723Z",
     "shell.execute_reply": "2024-02-19T11:22:11.757699Z"
    },
    "papermill": {
     "duration": 0.130613,
     "end_time": "2024-02-19T11:22:11.762079",
     "exception": false,
     "start_time": "2024-02-19T11:22:11.631466",
     "status": "completed"
    },
    "tags": []
   },
   "outputs": [],
   "source": [
    "y_pred = model.predict(x_test)"
   ]
  },
  {
   "cell_type": "code",
   "execution_count": 44,
   "id": "7dca606a",
   "metadata": {
    "execution": {
     "iopub.execute_input": "2024-02-19T11:22:11.807032Z",
     "iopub.status.busy": "2024-02-19T11:22:11.806666Z",
     "iopub.status.idle": "2024-02-19T11:22:11.814124Z",
     "shell.execute_reply": "2024-02-19T11:22:11.812979Z"
    },
    "papermill": {
     "duration": 0.031719,
     "end_time": "2024-02-19T11:22:11.816475",
     "exception": false,
     "start_time": "2024-02-19T11:22:11.784756",
     "status": "completed"
    },
    "tags": []
   },
   "outputs": [
    {
     "data": {
      "text/plain": [
       "array([122893.78, 152178.  , 182046.48, ..., 154871.86, 105466.15,\n",
       "       207151.34], dtype=float32)"
      ]
     },
     "execution_count": 44,
     "metadata": {},
     "output_type": "execute_result"
    }
   ],
   "source": [
    "y_pred"
   ]
  },
  {
   "cell_type": "code",
   "execution_count": 45,
   "id": "92afef9f",
   "metadata": {
    "execution": {
     "iopub.execute_input": "2024-02-19T11:22:11.860015Z",
     "iopub.status.busy": "2024-02-19T11:22:11.859338Z",
     "iopub.status.idle": "2024-02-19T11:22:11.892693Z",
     "shell.execute_reply": "2024-02-19T11:22:11.891509Z"
    },
    "papermill": {
     "duration": 0.057964,
     "end_time": "2024-02-19T11:22:11.895112",
     "exception": false,
     "start_time": "2024-02-19T11:22:11.837148",
     "status": "completed"
    },
    "tags": []
   },
   "outputs": [
    {
     "data": {
      "text/html": [
       "<div>\n",
       "<style scoped>\n",
       "    .dataframe tbody tr th:only-of-type {\n",
       "        vertical-align: middle;\n",
       "    }\n",
       "\n",
       "    .dataframe tbody tr th {\n",
       "        vertical-align: top;\n",
       "    }\n",
       "\n",
       "    .dataframe thead th {\n",
       "        text-align: right;\n",
       "    }\n",
       "</style>\n",
       "<table border=\"1\" class=\"dataframe\">\n",
       "  <thead>\n",
       "    <tr style=\"text-align: right;\">\n",
       "      <th></th>\n",
       "      <th>Id</th>\n",
       "      <th>SalePrice</th>\n",
       "    </tr>\n",
       "  </thead>\n",
       "  <tbody>\n",
       "    <tr>\n",
       "      <th>0</th>\n",
       "      <td>1461</td>\n",
       "      <td>122893.781250</td>\n",
       "    </tr>\n",
       "    <tr>\n",
       "      <th>1</th>\n",
       "      <td>1462</td>\n",
       "      <td>152178.000000</td>\n",
       "    </tr>\n",
       "    <tr>\n",
       "      <th>2</th>\n",
       "      <td>1463</td>\n",
       "      <td>182046.484375</td>\n",
       "    </tr>\n",
       "    <tr>\n",
       "      <th>3</th>\n",
       "      <td>1464</td>\n",
       "      <td>185564.265625</td>\n",
       "    </tr>\n",
       "    <tr>\n",
       "      <th>4</th>\n",
       "      <td>1465</td>\n",
       "      <td>198350.312500</td>\n",
       "    </tr>\n",
       "  </tbody>\n",
       "</table>\n",
       "</div>"
      ],
      "text/plain": [
       "     Id      SalePrice\n",
       "0  1461  122893.781250\n",
       "1  1462  152178.000000\n",
       "2  1463  182046.484375\n",
       "3  1464  185564.265625\n",
       "4  1465  198350.312500"
      ]
     },
     "execution_count": 45,
     "metadata": {},
     "output_type": "execute_result"
    }
   ],
   "source": [
    "sample_submission_df = pd.read_csv('../input/house-prices-advanced-regression-techniques/sample_submission.csv')\n",
    "sample_submission_df['SalePrice'] = y_pred\n",
    "sample_submission_df.to_csv('/kaggle/working/submission.csv', index=False)\n",
    "sample_submission_df.head()"
   ]
  },
  {
   "cell_type": "code",
   "execution_count": null,
   "id": "0beb3be1",
   "metadata": {
    "papermill": {
     "duration": 0.020811,
     "end_time": "2024-02-19T11:22:11.937740",
     "exception": false,
     "start_time": "2024-02-19T11:22:11.916929",
     "status": "completed"
    },
    "tags": []
   },
   "outputs": [],
   "source": []
  }
 ],
 "metadata": {
  "kaggle": {
   "accelerator": "none",
   "dataSources": [
    {
     "databundleVersionId": 868283,
     "sourceId": 5407,
     "sourceType": "competition"
    }
   ],
   "dockerImageVersionId": 30646,
   "isGpuEnabled": false,
   "isInternetEnabled": true,
   "language": "python",
   "sourceType": "notebook"
  },
  "kernelspec": {
   "display_name": "Python 3",
   "language": "python",
   "name": "python3"
  },
  "language_info": {
   "codemirror_mode": {
    "name": "ipython",
    "version": 3
   },
   "file_extension": ".py",
   "mimetype": "text/x-python",
   "name": "python",
   "nbconvert_exporter": "python",
   "pygments_lexer": "ipython3",
   "version": "3.10.13"
  },
  "papermill": {
   "default_parameters": {},
   "duration": 12.098214,
   "end_time": "2024-02-19T11:22:12.580898",
   "environment_variables": {},
   "exception": null,
   "input_path": "__notebook__.ipynb",
   "output_path": "__notebook__.ipynb",
   "parameters": {},
   "start_time": "2024-02-19T11:22:00.482684",
   "version": "2.5.0"
  }
 },
 "nbformat": 4,
 "nbformat_minor": 5
}
